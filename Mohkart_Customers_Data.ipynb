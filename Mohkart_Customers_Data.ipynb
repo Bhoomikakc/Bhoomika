{
 "cells": [
  {
   "cell_type": "markdown",
   "id": "2f8ee82b",
   "metadata": {},
   "source": [
    "##### Problem Statement\n",
    "\n",
    "##### About the Client:\n",
    "Mohkart is a leading e-commerce player in India. As a consultant, you have been hired to derive actionable insights that will help Mohkart prepare customer segment-specific strategies to further optimize their operations and marketing campaigns."
   ]
  },
  {
   "cell_type": "code",
   "execution_count": 1,
   "id": "75d4ac94",
   "metadata": {},
   "outputs": [],
   "source": [
    "import pandas as pd\n",
    "import numpy as np\n",
    "import matplotlib.pyplot as plt"
   ]
  },
  {
   "cell_type": "code",
   "execution_count": 28,
   "id": "25dccfdd",
   "metadata": {},
   "outputs": [],
   "source": [
    "df=pd.read_excel(r'C:\\Users\\lucky\\OneDrive\\Desktop\\Data Set.xlsx')"
   ]
  },
  {
   "cell_type": "code",
   "execution_count": 21,
   "id": "4ab51bd1",
   "metadata": {},
   "outputs": [
    {
     "data": {
      "text/html": [
       "<div>\n",
       "<style scoped>\n",
       "    .dataframe tbody tr th:only-of-type {\n",
       "        vertical-align: middle;\n",
       "    }\n",
       "\n",
       "    .dataframe tbody tr th {\n",
       "        vertical-align: top;\n",
       "    }\n",
       "\n",
       "    .dataframe thead th {\n",
       "        text-align: right;\n",
       "    }\n",
       "</style>\n",
       "<table border=\"1\" class=\"dataframe\">\n",
       "  <thead>\n",
       "    <tr style=\"text-align: right;\">\n",
       "      <th></th>\n",
       "      <th>CustomerID</th>\n",
       "      <th>Age</th>\n",
       "      <th>Device</th>\n",
       "      <th>City</th>\n",
       "      <th>Product</th>\n",
       "      <th>Price</th>\n",
       "      <th>Quantity</th>\n",
       "      <th>PurchaseDate</th>\n",
       "      <th>BrowsingTime</th>\n",
       "    </tr>\n",
       "  </thead>\n",
       "  <tbody>\n",
       "    <tr>\n",
       "      <th>0</th>\n",
       "      <td>9597</td>\n",
       "      <td>42</td>\n",
       "      <td>Mobile</td>\n",
       "      <td>Vadodara</td>\n",
       "      <td>Smart Thermostat</td>\n",
       "      <td>4441.406091</td>\n",
       "      <td>2</td>\n",
       "      <td>2021-08-06 05:29:38</td>\n",
       "      <td>9</td>\n",
       "    </tr>\n",
       "    <tr>\n",
       "      <th>1</th>\n",
       "      <td>11891</td>\n",
       "      <td>26</td>\n",
       "      <td>Tablet</td>\n",
       "      <td>Vadodara</td>\n",
       "      <td>Camera</td>\n",
       "      <td>35274.014252</td>\n",
       "      <td>6</td>\n",
       "      <td>2022-11-25 01:54:51</td>\n",
       "      <td>1</td>\n",
       "    </tr>\n",
       "    <tr>\n",
       "      <th>2</th>\n",
       "      <td>19067</td>\n",
       "      <td>61</td>\n",
       "      <td>Desktop</td>\n",
       "      <td>Kolkata</td>\n",
       "      <td>Microphone</td>\n",
       "      <td>784.924822</td>\n",
       "      <td>2</td>\n",
       "      <td>2022-12-10 10:25:27</td>\n",
       "      <td>20</td>\n",
       "    </tr>\n",
       "    <tr>\n",
       "      <th>3</th>\n",
       "      <td>19392</td>\n",
       "      <td>24</td>\n",
       "      <td>Desktop</td>\n",
       "      <td>Meerut</td>\n",
       "      <td>Action Camera</td>\n",
       "      <td>11000.476305</td>\n",
       "      <td>8</td>\n",
       "      <td>2023-02-24 16:24:13</td>\n",
       "      <td>8</td>\n",
       "    </tr>\n",
       "    <tr>\n",
       "      <th>4</th>\n",
       "      <td>57501</td>\n",
       "      <td>60</td>\n",
       "      <td>Desktop</td>\n",
       "      <td>Faridabad</td>\n",
       "      <td>Microphone</td>\n",
       "      <td>2814.737205</td>\n",
       "      <td>5</td>\n",
       "      <td>2021-09-15 02:45:31</td>\n",
       "      <td>10</td>\n",
       "    </tr>\n",
       "  </tbody>\n",
       "</table>\n",
       "</div>"
      ],
      "text/plain": [
       "   CustomerID  Age   Device       City           Product         Price  \\\n",
       "0        9597   42   Mobile   Vadodara  Smart Thermostat   4441.406091   \n",
       "1       11891   26   Tablet   Vadodara            Camera  35274.014252   \n",
       "2       19067   61  Desktop    Kolkata        Microphone    784.924822   \n",
       "3       19392   24  Desktop     Meerut     Action Camera  11000.476305   \n",
       "4       57501   60  Desktop  Faridabad        Microphone   2814.737205   \n",
       "\n",
       "   Quantity        PurchaseDate  BrowsingTime  \n",
       "0         2 2021-08-06 05:29:38             9  \n",
       "1         6 2022-11-25 01:54:51             1  \n",
       "2         2 2022-12-10 10:25:27            20  \n",
       "3         8 2023-02-24 16:24:13             8  \n",
       "4         5 2021-09-15 02:45:31            10  "
      ]
     },
     "execution_count": 21,
     "metadata": {},
     "output_type": "execute_result"
    }
   ],
   "source": [
    "df.head()"
   ]
  },
  {
   "cell_type": "code",
   "execution_count": 4,
   "id": "e867d564",
   "metadata": {},
   "outputs": [
    {
     "name": "stdout",
     "output_type": "stream",
     "text": [
      "<class 'pandas.core.frame.DataFrame'>\n",
      "RangeIndex: 100000 entries, 0 to 99999\n",
      "Data columns (total 9 columns):\n",
      " #   Column        Non-Null Count   Dtype         \n",
      "---  ------        --------------   -----         \n",
      " 0   CustomerID    100000 non-null  int64         \n",
      " 1   Age           100000 non-null  int64         \n",
      " 2   Device        100000 non-null  object        \n",
      " 3   City          100000 non-null  object        \n",
      " 4   Product       100000 non-null  object        \n",
      " 5   Price         100000 non-null  float64       \n",
      " 6   Quantity      100000 non-null  int64         \n",
      " 7   PurchaseDate  100000 non-null  datetime64[ns]\n",
      " 8   BrowsingTime  100000 non-null  int64         \n",
      "dtypes: datetime64[ns](1), float64(1), int64(4), object(3)\n",
      "memory usage: 6.9+ MB\n"
     ]
    }
   ],
   "source": [
    "df.info()"
   ]
  },
  {
   "cell_type": "markdown",
   "id": "64f75efe",
   "metadata": {},
   "source": [
    "#  a.) CustomerProfiling"
   ]
  },
  {
   "cell_type": "markdown",
   "id": "4eaf6c76",
   "metadata": {},
   "source": [
    "###  Segment the customers based on their purchase behavior, age, city or any other relevant factors"
   ]
  },
  {
   "cell_type": "code",
   "execution_count": 5,
   "id": "b12e0af2",
   "metadata": {},
   "outputs": [
    {
     "data": {
      "text/plain": [
       "Index(['CustomerID', 'Age', 'Device', 'City', 'Product', 'Price', 'Quantity',\n",
       "       'PurchaseDate', 'BrowsingTime'],\n",
       "      dtype='object')"
      ]
     },
     "execution_count": 5,
     "metadata": {},
     "output_type": "execute_result"
    }
   ],
   "source": [
    "df.columns"
   ]
  },
  {
   "cell_type": "markdown",
   "id": "cd3aab39",
   "metadata": {},
   "source": [
    "## Step 1: Data Preparation"
   ]
  },
  {
   "cell_type": "code",
   "execution_count": 6,
   "id": "0b9f59ad",
   "metadata": {},
   "outputs": [
    {
     "data": {
      "text/plain": [
       "CustomerID      0\n",
       "Age             0\n",
       "Device          0\n",
       "City            0\n",
       "Product         0\n",
       "Price           0\n",
       "Quantity        0\n",
       "PurchaseDate    0\n",
       "BrowsingTime    0\n",
       "dtype: int64"
      ]
     },
     "execution_count": 6,
     "metadata": {},
     "output_type": "execute_result"
    }
   ],
   "source": [
    "df.isna().sum()     # Here in this data there will be no null value "
   ]
  },
  {
   "cell_type": "markdown",
   "id": "f114e1c3",
   "metadata": {},
   "source": [
    "After data is clean and properly formatted and next is to Remove any irrelevant columns and handle missing values if present."
   ]
  },
  {
   "cell_type": "code",
   "execution_count": 7,
   "id": "c47d69cd",
   "metadata": {},
   "outputs": [],
   "source": [
    "relevant_columns= ['Age','City','Product','Price','Quantity']\n",
    "df=df[relevant_columns]"
   ]
  },
  {
   "cell_type": "code",
   "execution_count": 8,
   "id": "dab2defc",
   "metadata": {},
   "outputs": [],
   "source": [
    "# handling missing value if present\n",
    "df.dropna(inplace=True)"
   ]
  },
  {
   "cell_type": "code",
   "execution_count": 9,
   "id": "25e2ed93",
   "metadata": {},
   "outputs": [
    {
     "data": {
      "text/plain": [
       "(100000, 5)"
      ]
     },
     "execution_count": 9,
     "metadata": {},
     "output_type": "execute_result"
    }
   ],
   "source": [
    "df.shape"
   ]
  },
  {
   "cell_type": "markdown",
   "id": "73c62d62",
   "metadata": {},
   "source": [
    "After removing irrelvant columns and null values in a data , next step is validate the data"
   ]
  },
  {
   "cell_type": "code",
   "execution_count": 10,
   "id": "096c3d77",
   "metadata": {},
   "outputs": [
    {
     "name": "stdout",
     "output_type": "stream",
     "text": [
      "Total number of rows is : 100000\n",
      "Total number of columns is :  5\n"
     ]
    }
   ],
   "source": [
    "print('Total number of rows is :' , df.shape[0])\n",
    "print('Total number of columns is : ',df.shape[1])"
   ]
  },
  {
   "cell_type": "markdown",
   "id": "14669248",
   "metadata": {},
   "source": [
    "## Step 2: Encode the categorical variable "
   ]
  },
  {
   "cell_type": "code",
   "execution_count": 11,
   "id": "e852ce8d",
   "metadata": {},
   "outputs": [],
   "source": [
    "df_encoded = pd.get_dummies(df,columns=['City','Product'])"
   ]
  },
  {
   "cell_type": "code",
   "execution_count": 12,
   "id": "a42de592",
   "metadata": {},
   "outputs": [
    {
     "data": {
      "text/plain": [
       "(100000, 5)"
      ]
     },
     "execution_count": 12,
     "metadata": {},
     "output_type": "execute_result"
    }
   ],
   "source": [
    "df.shape"
   ]
  },
  {
   "cell_type": "markdown",
   "id": "76623419",
   "metadata": {},
   "source": [
    "## Step 3: Choose Clustering Algorithm"
   ]
  },
  {
   "cell_type": "markdown",
   "id": "79bf0d3a",
   "metadata": {},
   "source": [
    "Selecting an appropriate clustering algorithm. We'll use K-means clustering for this Data."
   ]
  },
  {
   "cell_type": "code",
   "execution_count": 13,
   "id": "8598a195",
   "metadata": {},
   "outputs": [],
   "source": [
    "from sklearn.cluster import KMeans\n",
    "\n",
    "# Initialize KMeans model\n",
    "kmeans = KMeans(n_clusters=3, random_state=42)\n"
   ]
  },
  {
   "cell_type": "markdown",
   "id": "694bc151",
   "metadata": {},
   "source": [
    "## Step 4: Perform Clustering"
   ]
  },
  {
   "cell_type": "markdown",
   "id": "5d4a6b59",
   "metadata": {},
   "source": [
    "Apply the chosen clustering algorithm to segment customers into clusters based on their features."
   ]
  },
  {
   "cell_type": "code",
   "execution_count": 14,
   "id": "a194d448",
   "metadata": {},
   "outputs": [
    {
     "name": "stderr",
     "output_type": "stream",
     "text": [
      "C:\\Users\\lucky\\.conda\\py\\Lib\\site-packages\\sklearn\\cluster\\_kmeans.py:1412: FutureWarning: The default value of `n_init` will change from 10 to 'auto' in 1.4. Set the value of `n_init` explicitly to suppress the warning\n",
      "  super()._check_params_vs_input(X, default_n_init=10)\n"
     ]
    }
   ],
   "source": [
    "# Fit KMeans model to the data\n",
    "clusters = kmeans.fit_predict(df_encoded)\n"
   ]
  },
  {
   "cell_type": "markdown",
   "id": "ffda2992",
   "metadata": {},
   "source": [
    "## Step 5: Interpretation and Profiling"
   ]
  },
  {
   "cell_type": "markdown",
   "id": "024288c9",
   "metadata": {},
   "source": [
    "Analyzing the characteristics of each cluster to understand the different customer segments."
   ]
  },
  {
   "cell_type": "code",
   "execution_count": 15,
   "id": "0fc2fa2f",
   "metadata": {},
   "outputs": [
    {
     "name": "stdout",
     "output_type": "stream",
     "text": [
      "               Age          Price  Quantity\n",
      "Cluster                                    \n",
      "0        44.049733    5206.060972  5.510211\n",
      "1        44.344768  130168.166099  5.479417\n",
      "2        44.050348   40201.180647  5.502517\n"
     ]
    },
    {
     "name": "stderr",
     "output_type": "stream",
     "text": [
      "C:\\Users\\lucky\\AppData\\Local\\Temp\\ipykernel_7248\\367596403.py:4: FutureWarning: The default value of numeric_only in DataFrameGroupBy.mean is deprecated. In a future version, numeric_only will default to False. Either specify numeric_only or select only columns which should be valid for the function.\n",
      "  cluster_means = df.groupby('Cluster').mean()           # Analyze cluster characteristics\n"
     ]
    }
   ],
   "source": [
    "df['Cluster'] = clusters                               # Add clusters to the DataFrame\n",
    "\n",
    "\n",
    "cluster_means = df.groupby('Cluster').mean()           # Analyze cluster characteristics\n",
    "print(cluster_means)\n"
   ]
  },
  {
   "cell_type": "markdown",
   "id": "50e81ea1",
   "metadata": {},
   "source": [
    "### Cluster 0:\n",
    "###### Characteristics:\n",
    "- Customers in this cluster have an average age of approximately 44 years.\n",
    "- They tend to make purchases with an average price around 5,206 dollar.\n",
    "- On average, they purchase around 5.5 items.\n",
    "\n",
    "###### Interpretation:\n",
    "- This cluster may represent a group of middle-aged customers who make moderate-priced purchases.\n",
    "\n",
    "\n",
    "### Cluster 1:\n",
    "###### Characteristics:\n",
    "- Customers in this cluster also have an average age of around 44 years.\n",
    "- They make significantly higher-priced purchases, with an average price of approximately 130,168 dollar.\n",
    "- Similar to Cluster 0, they purchase around 5.5 items on average.\n",
    "\n",
    "###### Interpretation:\n",
    "- This cluster likely represents a segment of high-value customers who make luxury or high-ticket purchases.\n",
    "\n",
    "\n",
    "### Cluster 2:\n",
    "###### Characteristics:\n",
    "- Customers in this cluster, again, have an average age of approximately 44 years.\n",
    "- They make purchases with an average price of about 40,201 dollar.\n",
    "- Similar to the other clusters, they also purchase around 5.5 items on average.\n",
    "\n",
    "###### Interpretation:\n",
    "- This cluster may represent another segment of customers who make relatively high-priced purchases but not as high as those in Cluster 1."
   ]
  },
  {
   "cell_type": "markdown",
   "id": "4b1c122d",
   "metadata": {},
   "source": [
    "#  b.) Insights"
   ]
  },
  {
   "cell_type": "markdown",
   "id": "02351a75",
   "metadata": {},
   "source": [
    "###  Insights Generation:"
   ]
  },
  {
   "cell_type": "markdown",
   "id": "a76b39de",
   "metadata": {},
   "source": [
    "### 1. Analyze the spending habits of different customer segments."
   ]
  },
  {
   "cell_type": "code",
   "execution_count": 16,
   "id": "cbb38dc2",
   "metadata": {},
   "outputs": [
    {
     "data": {
      "text/html": [
       "<div>\n",
       "<style scoped>\n",
       "    .dataframe tbody tr th:only-of-type {\n",
       "        vertical-align: middle;\n",
       "    }\n",
       "\n",
       "    .dataframe tbody tr th {\n",
       "        vertical-align: top;\n",
       "    }\n",
       "\n",
       "    .dataframe thead th {\n",
       "        text-align: right;\n",
       "    }\n",
       "</style>\n",
       "<table border=\"1\" class=\"dataframe\">\n",
       "  <thead>\n",
       "    <tr style=\"text-align: right;\">\n",
       "      <th></th>\n",
       "      <th>sum</th>\n",
       "      <th>mean</th>\n",
       "      <th>count</th>\n",
       "    </tr>\n",
       "  </thead>\n",
       "  <tbody>\n",
       "    <tr>\n",
       "      <th>0</th>\n",
       "      <td>4.433221e+08</td>\n",
       "      <td>5206.060972</td>\n",
       "      <td>85155</td>\n",
       "    </tr>\n",
       "    <tr>\n",
       "      <th>1</th>\n",
       "      <td>3.035522e+08</td>\n",
       "      <td>130168.166099</td>\n",
       "      <td>2332</td>\n",
       "    </tr>\n",
       "    <tr>\n",
       "      <th>2</th>\n",
       "      <td>5.030374e+08</td>\n",
       "      <td>40201.180647</td>\n",
       "      <td>12513</td>\n",
       "    </tr>\n",
       "  </tbody>\n",
       "</table>\n",
       "</div>"
      ],
      "text/plain": [
       "            sum           mean  count\n",
       "0  4.433221e+08    5206.060972  85155\n",
       "1  3.035522e+08  130168.166099   2332\n",
       "2  5.030374e+08   40201.180647  12513"
      ]
     },
     "execution_count": 16,
     "metadata": {},
     "output_type": "execute_result"
    }
   ],
   "source": [
    "df.groupby(clusters)['Price'].agg(['sum','mean','count'])"
   ]
  },
  {
   "cell_type": "markdown",
   "id": "852eb71d",
   "metadata": {},
   "source": [
    "Dataframe containing aggregate metrics for each cluster. It will have three columns: sum as total spending, mean as average spending per transaction, and count as total number of transactions."
   ]
  },
  {
   "cell_type": "markdown",
   "id": "c87a1a92",
   "metadata": {},
   "source": [
    "### 2: Identify Trends, Patterns, or Anomalies in the Data"
   ]
  },
  {
   "cell_type": "code",
   "execution_count": 29,
   "id": "b475c10a",
   "metadata": {},
   "outputs": [
    {
     "data": {
      "text/html": [
       "<div>\n",
       "<style scoped>\n",
       "    .dataframe tbody tr th:only-of-type {\n",
       "        vertical-align: middle;\n",
       "    }\n",
       "\n",
       "    .dataframe tbody tr th {\n",
       "        vertical-align: top;\n",
       "    }\n",
       "\n",
       "    .dataframe thead th {\n",
       "        text-align: right;\n",
       "    }\n",
       "</style>\n",
       "<table border=\"1\" class=\"dataframe\">\n",
       "  <thead>\n",
       "    <tr style=\"text-align: right;\">\n",
       "      <th></th>\n",
       "      <th>CustomerID</th>\n",
       "      <th>Age</th>\n",
       "      <th>Device</th>\n",
       "      <th>City</th>\n",
       "      <th>Product</th>\n",
       "      <th>Price</th>\n",
       "      <th>Quantity</th>\n",
       "      <th>PurchaseDate</th>\n",
       "      <th>BrowsingTime</th>\n",
       "    </tr>\n",
       "  </thead>\n",
       "  <tbody>\n",
       "    <tr>\n",
       "      <th>0</th>\n",
       "      <td>9597</td>\n",
       "      <td>42</td>\n",
       "      <td>Mobile</td>\n",
       "      <td>Vadodara</td>\n",
       "      <td>Smart Thermostat</td>\n",
       "      <td>4441.406091</td>\n",
       "      <td>2</td>\n",
       "      <td>2021-08-06 05:29:38</td>\n",
       "      <td>9</td>\n",
       "    </tr>\n",
       "    <tr>\n",
       "      <th>1</th>\n",
       "      <td>11891</td>\n",
       "      <td>26</td>\n",
       "      <td>Tablet</td>\n",
       "      <td>Vadodara</td>\n",
       "      <td>Camera</td>\n",
       "      <td>35274.014252</td>\n",
       "      <td>6</td>\n",
       "      <td>2022-11-25 01:54:51</td>\n",
       "      <td>1</td>\n",
       "    </tr>\n",
       "    <tr>\n",
       "      <th>2</th>\n",
       "      <td>19067</td>\n",
       "      <td>61</td>\n",
       "      <td>Desktop</td>\n",
       "      <td>Kolkata</td>\n",
       "      <td>Microphone</td>\n",
       "      <td>784.924822</td>\n",
       "      <td>2</td>\n",
       "      <td>2022-12-10 10:25:27</td>\n",
       "      <td>20</td>\n",
       "    </tr>\n",
       "    <tr>\n",
       "      <th>3</th>\n",
       "      <td>19392</td>\n",
       "      <td>24</td>\n",
       "      <td>Desktop</td>\n",
       "      <td>Meerut</td>\n",
       "      <td>Action Camera</td>\n",
       "      <td>11000.476305</td>\n",
       "      <td>8</td>\n",
       "      <td>2023-02-24 16:24:13</td>\n",
       "      <td>8</td>\n",
       "    </tr>\n",
       "    <tr>\n",
       "      <th>4</th>\n",
       "      <td>57501</td>\n",
       "      <td>60</td>\n",
       "      <td>Desktop</td>\n",
       "      <td>Faridabad</td>\n",
       "      <td>Microphone</td>\n",
       "      <td>2814.737205</td>\n",
       "      <td>5</td>\n",
       "      <td>2021-09-15 02:45:31</td>\n",
       "      <td>10</td>\n",
       "    </tr>\n",
       "    <tr>\n",
       "      <th>...</th>\n",
       "      <td>...</td>\n",
       "      <td>...</td>\n",
       "      <td>...</td>\n",
       "      <td>...</td>\n",
       "      <td>...</td>\n",
       "      <td>...</td>\n",
       "      <td>...</td>\n",
       "      <td>...</td>\n",
       "      <td>...</td>\n",
       "    </tr>\n",
       "    <tr>\n",
       "      <th>99995</th>\n",
       "      <td>43568</td>\n",
       "      <td>60</td>\n",
       "      <td>Mobile</td>\n",
       "      <td>Srinagar</td>\n",
       "      <td>Gaming Console</td>\n",
       "      <td>37964.020836</td>\n",
       "      <td>4</td>\n",
       "      <td>2023-11-13 13:35:02</td>\n",
       "      <td>0</td>\n",
       "    </tr>\n",
       "    <tr>\n",
       "      <th>99996</th>\n",
       "      <td>60169</td>\n",
       "      <td>60</td>\n",
       "      <td>Tablet</td>\n",
       "      <td>Srinagar</td>\n",
       "      <td>Printer</td>\n",
       "      <td>2614.051519</td>\n",
       "      <td>5</td>\n",
       "      <td>2022-07-31 14:08:30</td>\n",
       "      <td>8</td>\n",
       "    </tr>\n",
       "    <tr>\n",
       "      <th>99997</th>\n",
       "      <td>50955</td>\n",
       "      <td>35</td>\n",
       "      <td>Mobile</td>\n",
       "      <td>Delhi</td>\n",
       "      <td>Bluetooth Speaker</td>\n",
       "      <td>4465.469808</td>\n",
       "      <td>8</td>\n",
       "      <td>2021-07-04 22:35:21</td>\n",
       "      <td>10</td>\n",
       "    </tr>\n",
       "    <tr>\n",
       "      <th>99998</th>\n",
       "      <td>86160</td>\n",
       "      <td>23</td>\n",
       "      <td>Mobile</td>\n",
       "      <td>Vadodara</td>\n",
       "      <td>Earbuds</td>\n",
       "      <td>506.209955</td>\n",
       "      <td>8</td>\n",
       "      <td>2024-02-12 17:56:37</td>\n",
       "      <td>19</td>\n",
       "    </tr>\n",
       "    <tr>\n",
       "      <th>99999</th>\n",
       "      <td>84961</td>\n",
       "      <td>69</td>\n",
       "      <td>Tablet</td>\n",
       "      <td>Lucknow</td>\n",
       "      <td>Router</td>\n",
       "      <td>1325.243854</td>\n",
       "      <td>8</td>\n",
       "      <td>2021-12-01 09:57:21</td>\n",
       "      <td>16</td>\n",
       "    </tr>\n",
       "  </tbody>\n",
       "</table>\n",
       "<p>100000 rows × 9 columns</p>\n",
       "</div>"
      ],
      "text/plain": [
       "       CustomerID  Age   Device       City            Product         Price  \\\n",
       "0            9597   42   Mobile   Vadodara   Smart Thermostat   4441.406091   \n",
       "1           11891   26   Tablet   Vadodara             Camera  35274.014252   \n",
       "2           19067   61  Desktop    Kolkata         Microphone    784.924822   \n",
       "3           19392   24  Desktop     Meerut      Action Camera  11000.476305   \n",
       "4           57501   60  Desktop  Faridabad         Microphone   2814.737205   \n",
       "...           ...  ...      ...        ...                ...           ...   \n",
       "99995       43568   60   Mobile   Srinagar     Gaming Console  37964.020836   \n",
       "99996       60169   60   Tablet   Srinagar            Printer   2614.051519   \n",
       "99997       50955   35   Mobile      Delhi  Bluetooth Speaker   4465.469808   \n",
       "99998       86160   23   Mobile   Vadodara            Earbuds    506.209955   \n",
       "99999       84961   69   Tablet    Lucknow             Router   1325.243854   \n",
       "\n",
       "       Quantity        PurchaseDate  BrowsingTime  \n",
       "0             2 2021-08-06 05:29:38             9  \n",
       "1             6 2022-11-25 01:54:51             1  \n",
       "2             2 2022-12-10 10:25:27            20  \n",
       "3             8 2023-02-24 16:24:13             8  \n",
       "4             5 2021-09-15 02:45:31            10  \n",
       "...         ...                 ...           ...  \n",
       "99995         4 2023-11-13 13:35:02             0  \n",
       "99996         5 2022-07-31 14:08:30             8  \n",
       "99997         8 2021-07-04 22:35:21            10  \n",
       "99998         8 2024-02-12 17:56:37            19  \n",
       "99999         8 2021-12-01 09:57:21            16  \n",
       "\n",
       "[100000 rows x 9 columns]"
      ]
     },
     "execution_count": 29,
     "metadata": {},
     "output_type": "execute_result"
    }
   ],
   "source": [
    "df"
   ]
  },
  {
   "cell_type": "code",
   "execution_count": 31,
   "id": "4c361ed0",
   "metadata": {},
   "outputs": [
    {
     "data": {
      "text/html": [
       "<div>\n",
       "<style scoped>\n",
       "    .dataframe tbody tr th:only-of-type {\n",
       "        vertical-align: middle;\n",
       "    }\n",
       "\n",
       "    .dataframe tbody tr th {\n",
       "        vertical-align: top;\n",
       "    }\n",
       "\n",
       "    .dataframe thead th {\n",
       "        text-align: right;\n",
       "    }\n",
       "</style>\n",
       "<table border=\"1\" class=\"dataframe\">\n",
       "  <thead>\n",
       "    <tr style=\"text-align: right;\">\n",
       "      <th></th>\n",
       "      <th>CustomerID</th>\n",
       "      <th>Age</th>\n",
       "      <th>Device</th>\n",
       "      <th>City</th>\n",
       "      <th>Product</th>\n",
       "      <th>Price</th>\n",
       "      <th>Quantity</th>\n",
       "      <th>PurchaseDate</th>\n",
       "      <th>BrowsingTime</th>\n",
       "      <th>TotalSpending</th>\n",
       "    </tr>\n",
       "  </thead>\n",
       "  <tbody>\n",
       "    <tr>\n",
       "      <th>0</th>\n",
       "      <td>9597</td>\n",
       "      <td>42</td>\n",
       "      <td>Mobile</td>\n",
       "      <td>Vadodara</td>\n",
       "      <td>Smart Thermostat</td>\n",
       "      <td>4441.406091</td>\n",
       "      <td>2</td>\n",
       "      <td>2021-08-06 05:29:38</td>\n",
       "      <td>9</td>\n",
       "      <td>8882.812181</td>\n",
       "    </tr>\n",
       "    <tr>\n",
       "      <th>1</th>\n",
       "      <td>11891</td>\n",
       "      <td>26</td>\n",
       "      <td>Tablet</td>\n",
       "      <td>Vadodara</td>\n",
       "      <td>Camera</td>\n",
       "      <td>35274.014252</td>\n",
       "      <td>6</td>\n",
       "      <td>2022-11-25 01:54:51</td>\n",
       "      <td>1</td>\n",
       "      <td>211644.085513</td>\n",
       "    </tr>\n",
       "    <tr>\n",
       "      <th>2</th>\n",
       "      <td>19067</td>\n",
       "      <td>61</td>\n",
       "      <td>Desktop</td>\n",
       "      <td>Kolkata</td>\n",
       "      <td>Microphone</td>\n",
       "      <td>784.924822</td>\n",
       "      <td>2</td>\n",
       "      <td>2022-12-10 10:25:27</td>\n",
       "      <td>20</td>\n",
       "      <td>1569.849644</td>\n",
       "    </tr>\n",
       "    <tr>\n",
       "      <th>3</th>\n",
       "      <td>19392</td>\n",
       "      <td>24</td>\n",
       "      <td>Desktop</td>\n",
       "      <td>Meerut</td>\n",
       "      <td>Action Camera</td>\n",
       "      <td>11000.476305</td>\n",
       "      <td>8</td>\n",
       "      <td>2023-02-24 16:24:13</td>\n",
       "      <td>8</td>\n",
       "      <td>88003.810440</td>\n",
       "    </tr>\n",
       "    <tr>\n",
       "      <th>4</th>\n",
       "      <td>57501</td>\n",
       "      <td>60</td>\n",
       "      <td>Desktop</td>\n",
       "      <td>Faridabad</td>\n",
       "      <td>Microphone</td>\n",
       "      <td>2814.737205</td>\n",
       "      <td>5</td>\n",
       "      <td>2021-09-15 02:45:31</td>\n",
       "      <td>10</td>\n",
       "      <td>14073.686023</td>\n",
       "    </tr>\n",
       "  </tbody>\n",
       "</table>\n",
       "</div>"
      ],
      "text/plain": [
       "   CustomerID  Age   Device       City           Product         Price  \\\n",
       "0        9597   42   Mobile   Vadodara  Smart Thermostat   4441.406091   \n",
       "1       11891   26   Tablet   Vadodara            Camera  35274.014252   \n",
       "2       19067   61  Desktop    Kolkata        Microphone    784.924822   \n",
       "3       19392   24  Desktop     Meerut     Action Camera  11000.476305   \n",
       "4       57501   60  Desktop  Faridabad        Microphone   2814.737205   \n",
       "\n",
       "   Quantity        PurchaseDate  BrowsingTime  TotalSpending  \n",
       "0         2 2021-08-06 05:29:38             9    8882.812181  \n",
       "1         6 2022-11-25 01:54:51             1  211644.085513  \n",
       "2         2 2022-12-10 10:25:27            20    1569.849644  \n",
       "3         8 2023-02-24 16:24:13             8   88003.810440  \n",
       "4         5 2021-09-15 02:45:31            10   14073.686023  "
      ]
     },
     "execution_count": 31,
     "metadata": {},
     "output_type": "execute_result"
    }
   ],
   "source": [
    "df.head()"
   ]
  },
  {
   "cell_type": "code",
   "execution_count": 30,
   "id": "fb4cbcc5",
   "metadata": {
    "scrolled": false
   },
   "outputs": [
    {
     "data": {
      "image/png": "[encoded data removed]",
      "text/plain": [
       "<Figure size 1000x600 with 1 Axes>"
      ]
     },
     "metadata": {},
     "output_type": "display_data"
    }
   ],
   "source": [
    "df['TotalSpending'] = df['Price'] * df['Quantity']\n",
    "\n",
    "df['PurchaseDate'] = pd.to_datetime(df['PurchaseDate'])  # Converting 'PurchaseDate' to datetime\n",
    "\n",
    "monthly_total_spending = df.groupby(df['PurchaseDate'].dt.to_period('M'))['TotalSpending'].sum() # Group by month and sum the total spending\n",
    "\n",
    "# Plot total spending over time\n",
    "plt.figure(figsize=(10, 6))\n",
    "monthly_total_spending.plot(marker='o')\n",
    "plt.title('Total Spending Over Time')\n",
    "plt.xlabel('Date')\n",
    "plt.ylabel('Total Spending')\n",
    "plt.grid(True)\n",
    "plt.show()\n"
   ]
  },
  {
   "cell_type": "markdown",
   "id": "4acd8915",
   "metadata": {},
   "source": [
    "At the start of 2024, there's a big drop in spending. This is different from how spending was before. We need to find out why this drop happened. Understanding why this happened will help us make better plans for marketing and how we run things"
   ]
  },
  {
   "cell_type": "markdown",
   "id": "5f1dbb62",
   "metadata": {},
   "source": [
    "### 3: Extract 2-3 Actionable Insights"
   ]
  },
  {
   "cell_type": "markdown",
   "id": "a3e0c746",
   "metadata": {},
   "source": [
    "##### (i)  Seasonal Spending Patterns:"
   ]
  },
  {
   "cell_type": "code",
   "execution_count": 23,
   "id": "2897f87b",
   "metadata": {},
   "outputs": [
    {
     "data": {
      "image/png": "[encoded data removed]",
      "text/plain": [
       "<Figure size 1000x600 with 1 Axes>"
      ]
     },
     "metadata": {},
     "output_type": "display_data"
    }
   ],
   "source": [
    "monthly_spending = df.groupby(df['PurchaseDate'].dt.month)['Price'].sum()\n",
    "\n",
    "# Plot monthly spending trends\n",
    "plt.figure(figsize=(10, 6))\n",
    "monthly_spending.plot(kind='bar', color='skyblue')\n",
    "plt.title('Monthly Spending Trends')\n",
    "plt.xlabel('Month')\n",
    "plt.ylabel('Total Spending')\n",
    "plt.xticks(rotation=0)\n",
    "plt.grid(axis='y')\n",
    "plt.show()\n"
   ]
  },
  {
   "cell_type": "markdown",
   "id": "bf558cc1",
   "metadata": {},
   "source": [
    "##### High Spending in January:\n",
    "\n",
    "- Interpretation: The peak in spending observed in January indicates a surge in purchasing activity at the beginning of the year.\n",
    "- Analysis: Customers may be making purchases related to New Year's resolutions, such as fitness equipment, health products, or home organization items. Mohkart can capitalize on this trend by offering promotions or discounts on relevant products to attract customers looking to fulfill their New Year goals"
   ]
  },
  {
   "cell_type": "markdown",
   "id": "43d01266",
   "metadata": {},
   "source": [
    "##### (ii) Device Preference and Browsing Behavior:"
   ]
  },
  {
   "cell_type": "code",
   "execution_count": 24,
   "id": "4f6b486a",
   "metadata": {
    "scrolled": false
   },
   "outputs": [
    {
     "data": {
      "image/png": "[encoded data removed]",
      "text/plain": [
       "<Figure size 800x500 with 1 Axes>"
      ]
     },
     "metadata": {},
     "output_type": "display_data"
    }
   ],
   "source": [
    "device_counts = df['Device'].value_counts()    # analyzing device usage\n",
    "\n",
    "# Plot device usage distribution\n",
    "plt.figure(figsize=(8, 5))\n",
    "device_counts.plot(kind='pie', autopct='%1.1f%%', colors=['lightblue', 'lightgreen', 'lightcoral'])\n",
    "plt.title('Device Usage Distribution')\n",
    "plt.ylabel('')\n",
    "plt.show()\n"
   ]
  },
  {
   "cell_type": "markdown",
   "id": "74df55cd",
   "metadata": {},
   "source": [
    "##### Interpretation:\n",
    "\n",
    "The pie chart illustrates that customers use mobile, desktop, and tablet devices almost equally, with tablets slightly leading in usage (33.6%), followed closely by desktops (33.4%) and mobile devices (33.0%)."
   ]
  },
  {
   "cell_type": "markdown",
   "id": "d0a4dd9b",
   "metadata": {},
   "source": [
    "##### (iii) City-Specific Customer Segmentation: "
   ]
  },
  {
   "cell_type": "code",
   "execution_count": 33,
   "id": "2119acdf",
   "metadata": {},
   "outputs": [
    {
     "data": {
      "image/png": "[encoded data removed]",
      "text/plain": [
       "<Figure size 1000x600 with 1 Axes>"
      ]
     },
     "metadata": {},
     "output_type": "display_data"
    }
   ],
   "source": [
    "city_spending = df.groupby('City')['TotalSpending'].sum().sort_values(ascending=False).head(10)  # Group by city and sum the total spending\n",
    "\n",
    "# Plot top 10 cities by spending\n",
    "plt.figure(figsize=(10, 6))\n",
    "city_spending.plot(kind='bar', color='salmon')\n",
    "plt.title('Top 10 Cities by Total Spending')\n",
    "plt.xlabel('City')\n",
    "plt.ylabel('Total Spending')\n",
    "plt.xticks(rotation=45)\n",
    "plt.grid(axis='y')\n",
    "plt.show()\n"
   ]
  },
  {
   "cell_type": "markdown",
   "id": "9ae13f5f",
   "metadata": {},
   "source": [
    "##### Interpretation:\n",
    "\n",
    "The spending data for the top 10 cities shows varying levels of total expenditure, with surat having the highest total spending followed by Lucknow, Gwalior, Dhanbad and others.\n",
    "These cities demonstrate significant purchasing power and consumer activity, contributing to Mohkart's overall revenue generation."
   ]
  },
  {
   "cell_type": "markdown",
   "id": "26dbfb63",
   "metadata": {},
   "source": [
    "### 4. By actionable insights we mean type of insights based on which Mohakrt can make changes to their current strategies or create new strategies."
   ]
  },
  {
   "cell_type": "markdown",
   "id": "b27380b3",
   "metadata": {},
   "source": [
    "####  1.Seasonal Promotions and Campaigns:\n",
    "- Strategy: Mohkart can develop targeted seasonal promotions and campaigns aligned with peak spending months, such as January and March. Special discounts, themed collections, and promotional offers can be introduced to capitalize on customer spending trends during these periods."
   ]
  },
  {
   "cell_type": "markdown",
   "id": "af6969b6",
   "metadata": {},
   "source": [
    "#### 2. Mobile Optimization and Enhancements:\n",
    "-  Mohkart should prioritize mobile optimization and enhancements"
   ]
  },
  {
   "cell_type": "markdown",
   "id": "a65cf60b",
   "metadata": {},
   "source": [
    "#### 3. City-Specific Marketing and Localization:\n",
    "- Mohkart can develop city-specific marketing strategies and localization efforts tailored to the preferences and behaviors of customers in high-spending cities. This includes launching targeted advertising campaigns, offering localized promotions and deals, and partnering with local influencers or businesses to increase brand awareness and engagement."
   ]
  },
  {
   "cell_type": "markdown",
   "id": "be99b4c0",
   "metadata": {},
   "source": [
    "#### 4. Enhanced Delivery Services:\n",
    "- Mohkart can differentiate itself by offering enhanced delivery services, such as same-day or next-day delivery options, in top-spending cities. By prioritizing fast and reliable delivery, Mohkart can enhance the shopping experience for customers and increase satisfaction and loyalty."
   ]
  },
  {
   "cell_type": "markdown",
   "id": "667c8489",
   "metadata": {},
   "source": [
    "#### 5. Enhanced Customer Support and Service:\n",
    "-  Mohkart can differentiate itself by offering exceptional customer support and service throughout the entire shopping journey. This includes providing timely and helpful assistance via multiple channels such as live chat, email, and phone support. Mohkart can also invest in improving post-purchase support, including order tracking, returns, and refunds processes"
   ]
  },
  {
   "cell_type": "markdown",
   "id": "c031258c",
   "metadata": {},
   "source": [
    "\n",
    "# c.) StorytellingandVisualization"
   ]
  },
  {
   "cell_type": "markdown",
   "id": "10c3ca0a",
   "metadata": {},
   "source": [
    "for this i used tableau tool to analyze the data"
   ]
  },
  {
   "cell_type": "code",
   "execution_count": null,
   "id": "cb3b9669",
   "metadata": {},
   "outputs": [],
   "source": []
  },
  {
   "cell_type": "code",
   "execution_count": null,
   "id": "6a553c7f",
   "metadata": {},
   "outputs": [],
   "source": []
  }
 ],
 "metadata": {
  "kernelspec": {
   "display_name": "Python 3 (ipykernel)",
   "language": "python",
   "name": "python3"
  },
  "language_info": {
   "codemirror_mode": {
    "name": "ipython",
    "version": 3
   },
   "file_extension": ".py",
   "mimetype": "text/x-python",
   "name": "python",
   "nbconvert_exporter": "python",
   "pygments_lexer": "ipython3",
   "version": "3.11.4"
  }
 },
 "nbformat": 4,
 "nbformat_minor": 5
}
