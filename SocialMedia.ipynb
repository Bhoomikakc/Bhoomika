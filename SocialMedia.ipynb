{
 "cells": [
  {
   "cell_type": "code",
   "execution_count": 150,
   "id": "8ea550b6",
   "metadata": {},
   "outputs": [],
   "source": [
    "import pandas as pd\n",
    "import numpy as np\n",
    "import matplotlib.pyplot as plt\n",
    "import seaborn as sns"
   ]
  },
  {
   "cell_type": "code",
   "execution_count": 151,
   "id": "713f3a3c",
   "metadata": {},
   "outputs": [],
   "source": [
    "from sklearn.preprocessing import MinMaxScaler\n",
    "from sklearn.model_selection import train_test_split\n",
    "from sklearn.linear_model import LogisticRegression\n",
    "from sklearn.preprocessing import LabelEncoder"
   ]
  },
  {
   "cell_type": "code",
   "execution_count": 152,
   "id": "e2af28b4",
   "metadata": {},
   "outputs": [],
   "source": [
    "df=pd.read_excel(r\"C:\\Users\\om\\Downloads\\Social Media Data.xlsx\",sheet_name=\"Social Media Data\")"
   ]
  },
  {
   "cell_type": "code",
   "execution_count": 153,
   "id": "fd8c4414",
   "metadata": {},
   "outputs": [
    {
     "data": {
      "text/html": [
       "<div>\n",
       "<style scoped>\n",
       "    .dataframe tbody tr th:only-of-type {\n",
       "        vertical-align: middle;\n",
       "    }\n",
       "\n",
       "    .dataframe tbody tr th {\n",
       "        vertical-align: top;\n",
       "    }\n",
       "\n",
       "    .dataframe thead th {\n",
       "        text-align: right;\n",
       "    }\n",
       "</style>\n",
       "<table border=\"1\" class=\"dataframe\">\n",
       "  <thead>\n",
       "    <tr style=\"text-align: right;\">\n",
       "      <th></th>\n",
       "      <th>UserID</th>\n",
       "      <th>Taken_product</th>\n",
       "      <th>Yearly_avg_view_on_travel_page</th>\n",
       "      <th>preferred_device</th>\n",
       "      <th>total_likes_on_outstation_checkin_given</th>\n",
       "      <th>yearly_avg_Outstation_checkins</th>\n",
       "      <th>member_in_family</th>\n",
       "      <th>preferred_location_type</th>\n",
       "      <th>Yearly_avg_comment_on_travel_page</th>\n",
       "      <th>total_likes_on_outofstation_checkin_received</th>\n",
       "      <th>week_since_last_outstation_checkin</th>\n",
       "      <th>following_company_page</th>\n",
       "      <th>montly_avg_comment_on_company_page</th>\n",
       "      <th>working_flag</th>\n",
       "      <th>travelling_network_rating</th>\n",
       "      <th>Adult_flag</th>\n",
       "      <th>Daily_Avg_mins_spend_on_traveling_page</th>\n",
       "    </tr>\n",
       "  </thead>\n",
       "  <tbody>\n",
       "    <tr>\n",
       "      <th>0</th>\n",
       "      <td>1000001</td>\n",
       "      <td>Yes</td>\n",
       "      <td>307.0</td>\n",
       "      <td>iOS and Android</td>\n",
       "      <td>38570.0</td>\n",
       "      <td>1</td>\n",
       "      <td>2</td>\n",
       "      <td>Financial</td>\n",
       "      <td>94.0</td>\n",
       "      <td>5993</td>\n",
       "      <td>8</td>\n",
       "      <td>Yes</td>\n",
       "      <td>11</td>\n",
       "      <td>No</td>\n",
       "      <td>1</td>\n",
       "      <td>0</td>\n",
       "      <td>8</td>\n",
       "    </tr>\n",
       "    <tr>\n",
       "      <th>1</th>\n",
       "      <td>1000002</td>\n",
       "      <td>No</td>\n",
       "      <td>367.0</td>\n",
       "      <td>iOS</td>\n",
       "      <td>9765.0</td>\n",
       "      <td>1</td>\n",
       "      <td>1</td>\n",
       "      <td>Financial</td>\n",
       "      <td>61.0</td>\n",
       "      <td>5130</td>\n",
       "      <td>1</td>\n",
       "      <td>No</td>\n",
       "      <td>23</td>\n",
       "      <td>Yes</td>\n",
       "      <td>4</td>\n",
       "      <td>1</td>\n",
       "      <td>10</td>\n",
       "    </tr>\n",
       "    <tr>\n",
       "      <th>2</th>\n",
       "      <td>1000003</td>\n",
       "      <td>Yes</td>\n",
       "      <td>277.0</td>\n",
       "      <td>iOS and Android</td>\n",
       "      <td>48055.0</td>\n",
       "      <td>1</td>\n",
       "      <td>2</td>\n",
       "      <td>Other</td>\n",
       "      <td>92.0</td>\n",
       "      <td>2090</td>\n",
       "      <td>6</td>\n",
       "      <td>Yes</td>\n",
       "      <td>15</td>\n",
       "      <td>No</td>\n",
       "      <td>2</td>\n",
       "      <td>0</td>\n",
       "      <td>7</td>\n",
       "    </tr>\n",
       "    <tr>\n",
       "      <th>3</th>\n",
       "      <td>1000004</td>\n",
       "      <td>No</td>\n",
       "      <td>247.0</td>\n",
       "      <td>iOS</td>\n",
       "      <td>48720.0</td>\n",
       "      <td>1</td>\n",
       "      <td>4</td>\n",
       "      <td>Financial</td>\n",
       "      <td>56.0</td>\n",
       "      <td>2909</td>\n",
       "      <td>1</td>\n",
       "      <td>Yes</td>\n",
       "      <td>11</td>\n",
       "      <td>No</td>\n",
       "      <td>3</td>\n",
       "      <td>0</td>\n",
       "      <td>8</td>\n",
       "    </tr>\n",
       "    <tr>\n",
       "      <th>4</th>\n",
       "      <td>1000005</td>\n",
       "      <td>No</td>\n",
       "      <td>202.0</td>\n",
       "      <td>iOS and Android</td>\n",
       "      <td>20685.0</td>\n",
       "      <td>1</td>\n",
       "      <td>1</td>\n",
       "      <td>Medical</td>\n",
       "      <td>40.0</td>\n",
       "      <td>3468</td>\n",
       "      <td>9</td>\n",
       "      <td>No</td>\n",
       "      <td>12</td>\n",
       "      <td>No</td>\n",
       "      <td>4</td>\n",
       "      <td>1</td>\n",
       "      <td>6</td>\n",
       "    </tr>\n",
       "  </tbody>\n",
       "</table>\n",
       "</div>"
      ],
      "text/plain": [
       "    UserID Taken_product  Yearly_avg_view_on_travel_page preferred_device  \\\n",
       "0  1000001           Yes                           307.0  iOS and Android   \n",
       "1  1000002            No                           367.0              iOS   \n",
       "2  1000003           Yes                           277.0  iOS and Android   \n",
       "3  1000004            No                           247.0              iOS   \n",
       "4  1000005            No                           202.0  iOS and Android   \n",
       "\n",
       "   total_likes_on_outstation_checkin_given yearly_avg_Outstation_checkins  \\\n",
       "0                                  38570.0                              1   \n",
       "1                                   9765.0                              1   \n",
       "2                                  48055.0                              1   \n",
       "3                                  48720.0                              1   \n",
       "4                                  20685.0                              1   \n",
       "\n",
       "  member_in_family preferred_location_type  Yearly_avg_comment_on_travel_page  \\\n",
       "0                2               Financial                               94.0   \n",
       "1                1               Financial                               61.0   \n",
       "2                2                   Other                               92.0   \n",
       "3                4               Financial                               56.0   \n",
       "4                1                 Medical                               40.0   \n",
       "\n",
       "   total_likes_on_outofstation_checkin_received  \\\n",
       "0                                          5993   \n",
       "1                                          5130   \n",
       "2                                          2090   \n",
       "3                                          2909   \n",
       "4                                          3468   \n",
       "\n",
       "   week_since_last_outstation_checkin following_company_page  \\\n",
       "0                                   8                    Yes   \n",
       "1                                   1                     No   \n",
       "2                                   6                    Yes   \n",
       "3                                   1                    Yes   \n",
       "4                                   9                     No   \n",
       "\n",
       "   montly_avg_comment_on_company_page working_flag  travelling_network_rating  \\\n",
       "0                                  11           No                          1   \n",
       "1                                  23          Yes                          4   \n",
       "2                                  15           No                          2   \n",
       "3                                  11           No                          3   \n",
       "4                                  12           No                          4   \n",
       "\n",
       "   Adult_flag  Daily_Avg_mins_spend_on_traveling_page  \n",
       "0           0                                       8  \n",
       "1           1                                      10  \n",
       "2           0                                       7  \n",
       "3           0                                       8  \n",
       "4           1                                       6  "
      ]
     },
     "execution_count": 153,
     "metadata": {},
     "output_type": "execute_result"
    }
   ],
   "source": [
    "df.head()"
   ]
  },
  {
   "cell_type": "code",
   "execution_count": 154,
   "id": "8f94297d",
   "metadata": {},
   "outputs": [
    {
     "name": "stdout",
     "output_type": "stream",
     "text": [
      "<class 'pandas.core.frame.DataFrame'>\n",
      "RangeIndex: 11760 entries, 0 to 11759\n",
      "Data columns (total 17 columns):\n",
      " #   Column                                        Non-Null Count  Dtype  \n",
      "---  ------                                        --------------  -----  \n",
      " 0   UserID                                        11760 non-null  int64  \n",
      " 1   Taken_product                                 11760 non-null  object \n",
      " 2   Yearly_avg_view_on_travel_page                11179 non-null  float64\n",
      " 3   preferred_device                              11707 non-null  object \n",
      " 4   total_likes_on_outstation_checkin_given       11379 non-null  float64\n",
      " 5   yearly_avg_Outstation_checkins                11685 non-null  object \n",
      " 6   member_in_family                              11760 non-null  object \n",
      " 7   preferred_location_type                       11729 non-null  object \n",
      " 8   Yearly_avg_comment_on_travel_page             11554 non-null  float64\n",
      " 9   total_likes_on_outofstation_checkin_received  11760 non-null  int64  \n",
      " 10  week_since_last_outstation_checkin            11760 non-null  int64  \n",
      " 11  following_company_page                        11657 non-null  object \n",
      " 12  montly_avg_comment_on_company_page            11760 non-null  int64  \n",
      " 13  working_flag                                  11760 non-null  object \n",
      " 14  travelling_network_rating                     11760 non-null  int64  \n",
      " 15  Adult_flag                                    11760 non-null  int64  \n",
      " 16  Daily_Avg_mins_spend_on_traveling_page        11760 non-null  int64  \n",
      "dtypes: float64(3), int64(7), object(7)\n",
      "memory usage: 1.5+ MB\n"
     ]
    }
   ],
   "source": [
    "df.info()"
   ]
  },
  {
   "cell_type": "code",
   "execution_count": 155,
   "id": "1816f9ea",
   "metadata": {},
   "outputs": [
    {
     "data": {
      "text/html": [
       "<div>\n",
       "<style scoped>\n",
       "    .dataframe tbody tr th:only-of-type {\n",
       "        vertical-align: middle;\n",
       "    }\n",
       "\n",
       "    .dataframe tbody tr th {\n",
       "        vertical-align: top;\n",
       "    }\n",
       "\n",
       "    .dataframe thead th {\n",
       "        text-align: right;\n",
       "    }\n",
       "</style>\n",
       "<table border=\"1\" class=\"dataframe\">\n",
       "  <thead>\n",
       "    <tr style=\"text-align: right;\">\n",
       "      <th></th>\n",
       "      <th>UserID</th>\n",
       "      <th>Yearly_avg_view_on_travel_page</th>\n",
       "      <th>total_likes_on_outstation_checkin_given</th>\n",
       "      <th>Yearly_avg_comment_on_travel_page</th>\n",
       "      <th>total_likes_on_outofstation_checkin_received</th>\n",
       "      <th>week_since_last_outstation_checkin</th>\n",
       "      <th>montly_avg_comment_on_company_page</th>\n",
       "      <th>travelling_network_rating</th>\n",
       "      <th>Adult_flag</th>\n",
       "      <th>Daily_Avg_mins_spend_on_traveling_page</th>\n",
       "    </tr>\n",
       "  </thead>\n",
       "  <tbody>\n",
       "    <tr>\n",
       "      <th>count</th>\n",
       "      <td>1.176000e+04</td>\n",
       "      <td>11179.000000</td>\n",
       "      <td>11379.000000</td>\n",
       "      <td>11554.000000</td>\n",
       "      <td>11760.000000</td>\n",
       "      <td>11760.000000</td>\n",
       "      <td>11760.000000</td>\n",
       "      <td>11760.000000</td>\n",
       "      <td>11760.000000</td>\n",
       "      <td>11760.000000</td>\n",
       "    </tr>\n",
       "    <tr>\n",
       "      <th>mean</th>\n",
       "      <td>1.005880e+06</td>\n",
       "      <td>280.830844</td>\n",
       "      <td>28170.481765</td>\n",
       "      <td>74.790029</td>\n",
       "      <td>6531.699065</td>\n",
       "      <td>3.203571</td>\n",
       "      <td>28.661565</td>\n",
       "      <td>2.712245</td>\n",
       "      <td>0.793878</td>\n",
       "      <td>13.817432</td>\n",
       "    </tr>\n",
       "    <tr>\n",
       "      <th>std</th>\n",
       "      <td>3.394964e+03</td>\n",
       "      <td>68.182958</td>\n",
       "      <td>14385.032134</td>\n",
       "      <td>24.026650</td>\n",
       "      <td>4706.613785</td>\n",
       "      <td>2.616365</td>\n",
       "      <td>48.660504</td>\n",
       "      <td>1.080887</td>\n",
       "      <td>0.851823</td>\n",
       "      <td>9.070657</td>\n",
       "    </tr>\n",
       "    <tr>\n",
       "      <th>min</th>\n",
       "      <td>1.000001e+06</td>\n",
       "      <td>35.000000</td>\n",
       "      <td>3570.000000</td>\n",
       "      <td>3.000000</td>\n",
       "      <td>1009.000000</td>\n",
       "      <td>0.000000</td>\n",
       "      <td>11.000000</td>\n",
       "      <td>1.000000</td>\n",
       "      <td>0.000000</td>\n",
       "      <td>0.000000</td>\n",
       "    </tr>\n",
       "    <tr>\n",
       "      <th>25%</th>\n",
       "      <td>1.002941e+06</td>\n",
       "      <td>232.000000</td>\n",
       "      <td>16380.000000</td>\n",
       "      <td>57.000000</td>\n",
       "      <td>2940.750000</td>\n",
       "      <td>1.000000</td>\n",
       "      <td>17.000000</td>\n",
       "      <td>2.000000</td>\n",
       "      <td>0.000000</td>\n",
       "      <td>8.000000</td>\n",
       "    </tr>\n",
       "    <tr>\n",
       "      <th>50%</th>\n",
       "      <td>1.005880e+06</td>\n",
       "      <td>271.000000</td>\n",
       "      <td>28076.000000</td>\n",
       "      <td>75.000000</td>\n",
       "      <td>4948.000000</td>\n",
       "      <td>3.000000</td>\n",
       "      <td>22.000000</td>\n",
       "      <td>3.000000</td>\n",
       "      <td>1.000000</td>\n",
       "      <td>12.000000</td>\n",
       "    </tr>\n",
       "    <tr>\n",
       "      <th>75%</th>\n",
       "      <td>1.008820e+06</td>\n",
       "      <td>324.000000</td>\n",
       "      <td>40525.000000</td>\n",
       "      <td>92.000000</td>\n",
       "      <td>8393.250000</td>\n",
       "      <td>5.000000</td>\n",
       "      <td>27.000000</td>\n",
       "      <td>4.000000</td>\n",
       "      <td>1.000000</td>\n",
       "      <td>18.000000</td>\n",
       "    </tr>\n",
       "    <tr>\n",
       "      <th>max</th>\n",
       "      <td>1.011760e+06</td>\n",
       "      <td>464.000000</td>\n",
       "      <td>252430.000000</td>\n",
       "      <td>815.000000</td>\n",
       "      <td>20065.000000</td>\n",
       "      <td>11.000000</td>\n",
       "      <td>500.000000</td>\n",
       "      <td>4.000000</td>\n",
       "      <td>3.000000</td>\n",
       "      <td>270.000000</td>\n",
       "    </tr>\n",
       "  </tbody>\n",
       "</table>\n",
       "</div>"
      ],
      "text/plain": [
       "             UserID  Yearly_avg_view_on_travel_page  \\\n",
       "count  1.176000e+04                    11179.000000   \n",
       "mean   1.005880e+06                      280.830844   \n",
       "std    3.394964e+03                       68.182958   \n",
       "min    1.000001e+06                       35.000000   \n",
       "25%    1.002941e+06                      232.000000   \n",
       "50%    1.005880e+06                      271.000000   \n",
       "75%    1.008820e+06                      324.000000   \n",
       "max    1.011760e+06                      464.000000   \n",
       "\n",
       "       total_likes_on_outstation_checkin_given  \\\n",
       "count                             11379.000000   \n",
       "mean                              28170.481765   \n",
       "std                               14385.032134   \n",
       "min                                3570.000000   \n",
       "25%                               16380.000000   \n",
       "50%                               28076.000000   \n",
       "75%                               40525.000000   \n",
       "max                              252430.000000   \n",
       "\n",
       "       Yearly_avg_comment_on_travel_page  \\\n",
       "count                       11554.000000   \n",
       "mean                           74.790029   \n",
       "std                            24.026650   \n",
       "min                             3.000000   \n",
       "25%                            57.000000   \n",
       "50%                            75.000000   \n",
       "75%                            92.000000   \n",
       "max                           815.000000   \n",
       "\n",
       "       total_likes_on_outofstation_checkin_received  \\\n",
       "count                                  11760.000000   \n",
       "mean                                    6531.699065   \n",
       "std                                     4706.613785   \n",
       "min                                     1009.000000   \n",
       "25%                                     2940.750000   \n",
       "50%                                     4948.000000   \n",
       "75%                                     8393.250000   \n",
       "max                                    20065.000000   \n",
       "\n",
       "       week_since_last_outstation_checkin  montly_avg_comment_on_company_page  \\\n",
       "count                        11760.000000                        11760.000000   \n",
       "mean                             3.203571                           28.661565   \n",
       "std                              2.616365                           48.660504   \n",
       "min                              0.000000                           11.000000   \n",
       "25%                              1.000000                           17.000000   \n",
       "50%                              3.000000                           22.000000   \n",
       "75%                              5.000000                           27.000000   \n",
       "max                             11.000000                          500.000000   \n",
       "\n",
       "       travelling_network_rating    Adult_flag  \\\n",
       "count               11760.000000  11760.000000   \n",
       "mean                    2.712245      0.793878   \n",
       "std                     1.080887      0.851823   \n",
       "min                     1.000000      0.000000   \n",
       "25%                     2.000000      0.000000   \n",
       "50%                     3.000000      1.000000   \n",
       "75%                     4.000000      1.000000   \n",
       "max                     4.000000      3.000000   \n",
       "\n",
       "       Daily_Avg_mins_spend_on_traveling_page  \n",
       "count                            11760.000000  \n",
       "mean                                13.817432  \n",
       "std                                  9.070657  \n",
       "min                                  0.000000  \n",
       "25%                                  8.000000  \n",
       "50%                                 12.000000  \n",
       "75%                                 18.000000  \n",
       "max                                270.000000  "
      ]
     },
     "execution_count": 155,
     "metadata": {},
     "output_type": "execute_result"
    }
   ],
   "source": [
    "df.describe()"
   ]
  },
  {
   "cell_type": "code",
   "execution_count": 156,
   "id": "88c9bc42",
   "metadata": {},
   "outputs": [
    {
     "data": {
      "text/html": [
       "<div>\n",
       "<style scoped>\n",
       "    .dataframe tbody tr th:only-of-type {\n",
       "        vertical-align: middle;\n",
       "    }\n",
       "\n",
       "    .dataframe tbody tr th {\n",
       "        vertical-align: top;\n",
       "    }\n",
       "\n",
       "    .dataframe thead th {\n",
       "        text-align: right;\n",
       "    }\n",
       "</style>\n",
       "<table border=\"1\" class=\"dataframe\">\n",
       "  <thead>\n",
       "    <tr style=\"text-align: right;\">\n",
       "      <th></th>\n",
       "      <th>Taken_product</th>\n",
       "      <th>preferred_device</th>\n",
       "      <th>yearly_avg_Outstation_checkins</th>\n",
       "      <th>member_in_family</th>\n",
       "      <th>preferred_location_type</th>\n",
       "      <th>following_company_page</th>\n",
       "      <th>working_flag</th>\n",
       "    </tr>\n",
       "  </thead>\n",
       "  <tbody>\n",
       "    <tr>\n",
       "      <th>count</th>\n",
       "      <td>11760</td>\n",
       "      <td>11707</td>\n",
       "      <td>11685</td>\n",
       "      <td>11760</td>\n",
       "      <td>11729</td>\n",
       "      <td>11657</td>\n",
       "      <td>11760</td>\n",
       "    </tr>\n",
       "    <tr>\n",
       "      <th>unique</th>\n",
       "      <td>2</td>\n",
       "      <td>10</td>\n",
       "      <td>30</td>\n",
       "      <td>7</td>\n",
       "      <td>15</td>\n",
       "      <td>4</td>\n",
       "      <td>2</td>\n",
       "    </tr>\n",
       "    <tr>\n",
       "      <th>top</th>\n",
       "      <td>No</td>\n",
       "      <td>Tab</td>\n",
       "      <td>1</td>\n",
       "      <td>3</td>\n",
       "      <td>Beach</td>\n",
       "      <td>No</td>\n",
       "      <td>No</td>\n",
       "    </tr>\n",
       "    <tr>\n",
       "      <th>freq</th>\n",
       "      <td>9864</td>\n",
       "      <td>4172</td>\n",
       "      <td>4543</td>\n",
       "      <td>4561</td>\n",
       "      <td>2424</td>\n",
       "      <td>8355</td>\n",
       "      <td>9952</td>\n",
       "    </tr>\n",
       "  </tbody>\n",
       "</table>\n",
       "</div>"
      ],
      "text/plain": [
       "       Taken_product preferred_device  yearly_avg_Outstation_checkins  \\\n",
       "count          11760            11707                           11685   \n",
       "unique             2               10                              30   \n",
       "top               No              Tab                               1   \n",
       "freq            9864             4172                            4543   \n",
       "\n",
       "        member_in_family preferred_location_type following_company_page  \\\n",
       "count              11760                   11729                  11657   \n",
       "unique                 7                      15                      4   \n",
       "top                    3                   Beach                     No   \n",
       "freq                4561                    2424                   8355   \n",
       "\n",
       "       working_flag  \n",
       "count         11760  \n",
       "unique            2  \n",
       "top              No  \n",
       "freq           9952  "
      ]
     },
     "execution_count": 156,
     "metadata": {},
     "output_type": "execute_result"
    }
   ],
   "source": [
    "df.describe(include=\"object\")"
   ]
  },
  {
   "cell_type": "code",
   "execution_count": 157,
   "id": "2942e911",
   "metadata": {},
   "outputs": [
    {
     "data": {
      "text/plain": [
       "array([[<Axes: title={'center': 'UserID'}>,\n",
       "        <Axes: title={'center': 'Yearly_avg_view_on_travel_page'}>,\n",
       "        <Axes: title={'center': 'total_likes_on_outstation_checkin_given'}>],\n",
       "       [<Axes: title={'center': 'Yearly_avg_comment_on_travel_page'}>,\n",
       "        <Axes: title={'center': 'total_likes_on_outofstation_checkin_received'}>,\n",
       "        <Axes: title={'center': 'week_since_last_outstation_checkin'}>],\n",
       "       [<Axes: title={'center': 'montly_avg_comment_on_company_page'}>,\n",
       "        <Axes: title={'center': 'travelling_network_rating'}>,\n",
       "        <Axes: title={'center': 'Adult_flag'}>],\n",
       "       [<Axes: title={'center': 'Daily_Avg_mins_spend_on_traveling_page'}>,\n",
       "        <Axes: >, <Axes: >]], dtype=object)"
      ]
     },
     "execution_count": 157,
     "metadata": {},
     "output_type": "execute_result"
    },
    {
     "data": {
      "image/png": "[encoded data removed]",
      "text/plain": [
       "<Figure size 1000x1000 with 12 Axes>"
      ]
     },
     "metadata": {},
     "output_type": "display_data"
    }
   ],
   "source": [
    "df.hist(figsize=(10,10))"
   ]
  },
  {
   "cell_type": "code",
   "execution_count": 158,
   "id": "724a8120",
   "metadata": {},
   "outputs": [
    {
     "data": {
      "text/plain": [
       "Index(['UserID', 'Taken_product', 'Yearly_avg_view_on_travel_page',\n",
       "       'preferred_device', 'total_likes_on_outstation_checkin_given',\n",
       "       'yearly_avg_Outstation_checkins', 'member_in_family',\n",
       "       'preferred_location_type', 'Yearly_avg_comment_on_travel_page',\n",
       "       'total_likes_on_outofstation_checkin_received',\n",
       "       'week_since_last_outstation_checkin', 'following_company_page',\n",
       "       'montly_avg_comment_on_company_page', 'working_flag',\n",
       "       'travelling_network_rating', 'Adult_flag',\n",
       "       'Daily_Avg_mins_spend_on_traveling_page'],\n",
       "      dtype='object')"
      ]
     },
     "execution_count": 158,
     "metadata": {},
     "output_type": "execute_result"
    }
   ],
   "source": [
    "df.columns"
   ]
  },
  {
   "cell_type": "code",
   "execution_count": 159,
   "id": "0f1070f5",
   "metadata": {},
   "outputs": [],
   "source": [
    "a=[\"Taken_product\",\"preferred_device\",\"yearly_avg_Outstation_checkins\",\"member_in_family\",\"preferred_location_type\",\"following_company_page\",\"working_flag\"]"
   ]
  },
  {
   "cell_type": "code",
   "execution_count": 160,
   "id": "bcfcf410",
   "metadata": {},
   "outputs": [
    {
     "name": "stdout",
     "output_type": "stream",
     "text": [
      "Taken_product\n",
      "['Yes' 'No']\n",
      "\n",
      "\n",
      "preferred_device\n",
      "['iOS and Android' 'iOS' 'ANDROID' nan 'Android' 'Android OS' 'Other'\n",
      " 'Others' 'Tab' 'Laptop' 'Mobile']\n",
      "\n",
      "\n",
      "yearly_avg_Outstation_checkins\n",
      "[1 24 23 27 16 15 26 19 21 11 10 25 12 18 29 nan 22 14 20 28 17 13 '*' 5 8\n",
      " 2 3 9 7 6 4]\n",
      "\n",
      "\n",
      "member_in_family\n",
      "[2 1 4 'Three' 3 5 10]\n",
      "\n",
      "\n",
      "preferred_location_type\n",
      "['Financial' 'Other' 'Medical' nan 'Game' 'Social media' 'Entertainment'\n",
      " 'Tour and Travel' 'Movie' 'OTT' 'Tour  Travel' 'Beach' 'Historical site'\n",
      " 'Big Cities' 'Trekking' 'Hill Stations']\n",
      "\n",
      "\n",
      "following_company_page\n",
      "['Yes' 'No' nan 1 0]\n",
      "\n",
      "\n",
      "working_flag\n",
      "['No' 'Yes']\n",
      "\n",
      "\n"
     ]
    }
   ],
   "source": [
    "for i in a:\n",
    "    print(i)\n",
    "    print(df[i].unique())\n",
    "    print(\"\\n\")\n"
   ]
  },
  {
   "cell_type": "code",
   "execution_count": 161,
   "id": "0e8271ab",
   "metadata": {},
   "outputs": [],
   "source": [
    "df[\"preferred_device\"]=df[\"preferred_device\"].where(df[\"preferred_device\"]!='ANDROID',other=\"Android\")"
   ]
  },
  {
   "cell_type": "code",
   "execution_count": 162,
   "id": "c70d388d",
   "metadata": {},
   "outputs": [],
   "source": [
    "df[\"preferred_device\"]=df[\"preferred_device\"].where(df[\"preferred_device\"]!='Android OS',other=\"Android\")"
   ]
  },
  {
   "cell_type": "code",
   "execution_count": 163,
   "id": "dfbe0f8e",
   "metadata": {},
   "outputs": [],
   "source": [
    "df[\"preferred_device\"]=df[\"preferred_device\"].where(df[\"preferred_device\"]!='Other',other='Others')"
   ]
  },
  {
   "cell_type": "code",
   "execution_count": 164,
   "id": "5761be1f",
   "metadata": {},
   "outputs": [],
   "source": [
    "df[\"yearly_avg_Outstation_checkins\"]=df[\"yearly_avg_Outstation_checkins\"].where(df[\"yearly_avg_Outstation_checkins\"]!=\"*\",other=np.nan)"
   ]
  },
  {
   "cell_type": "code",
   "execution_count": 165,
   "id": "89f94260",
   "metadata": {},
   "outputs": [],
   "source": [
    "df[\"member_in_family\"]=df[\"member_in_family\"].where(df[\"member_in_family\"]!=\"Three\",other=3)"
   ]
  },
  {
   "cell_type": "code",
   "execution_count": 166,
   "id": "e51dbe76",
   "metadata": {},
   "outputs": [],
   "source": [
    "df[\"following_company_page\"].replace({1:\"Yes\",0:\"No\"},inplace=True)"
   ]
  },
  {
   "cell_type": "code",
   "execution_count": 167,
   "id": "eb731186",
   "metadata": {},
   "outputs": [
    {
     "name": "stdout",
     "output_type": "stream",
     "text": [
      "Taken_product\n",
      "['Yes' 'No']\n",
      "\n",
      "\n",
      "preferred_device\n",
      "['iOS and Android' 'iOS' 'Android' nan 'Others' 'Tab' 'Laptop' 'Mobile']\n",
      "\n",
      "\n",
      "yearly_avg_Outstation_checkins\n",
      "[1 24 23 27 16 15 26 19 21 11 10 25 12 18 29 nan 22 14 20 28 17 13 5 8 2 3\n",
      " 9 7 6 4]\n",
      "\n",
      "\n",
      "member_in_family\n",
      "[2 1 4 3 5 10]\n",
      "\n",
      "\n",
      "preferred_location_type\n",
      "['Financial' 'Other' 'Medical' nan 'Game' 'Social media' 'Entertainment'\n",
      " 'Tour and Travel' 'Movie' 'OTT' 'Tour  Travel' 'Beach' 'Historical site'\n",
      " 'Big Cities' 'Trekking' 'Hill Stations']\n",
      "\n",
      "\n",
      "following_company_page\n",
      "['Yes' 'No' nan]\n",
      "\n",
      "\n",
      "working_flag\n",
      "['No' 'Yes']\n",
      "\n",
      "\n"
     ]
    }
   ],
   "source": [
    "for i in a:\n",
    "    print(i)\n",
    "    print(df[i].unique())\n",
    "    print(\"\\n\")\n"
   ]
  },
  {
   "cell_type": "code",
   "execution_count": 168,
   "id": "51801615",
   "metadata": {},
   "outputs": [
    {
     "data": {
      "text/plain": [
       "<Axes: >"
      ]
     },
     "execution_count": 168,
     "metadata": {},
     "output_type": "execute_result"
    },
    {
     "data": {
      "image/png": "[encoded data removed]",
      "text/plain": [
       "<Figure size 1000x1000 with 1 Axes>"
      ]
     },
     "metadata": {},
     "output_type": "display_data"
    }
   ],
   "source": [
    "df.plot.box(figsize=(10,10))"
   ]
  },
  {
   "cell_type": "code",
   "execution_count": 169,
   "id": "25afeb58",
   "metadata": {},
   "outputs": [
    {
     "data": {
      "text/html": [
       "<div>\n",
       "<style scoped>\n",
       "    .dataframe tbody tr th:only-of-type {\n",
       "        vertical-align: middle;\n",
       "    }\n",
       "\n",
       "    .dataframe tbody tr th {\n",
       "        vertical-align: top;\n",
       "    }\n",
       "\n",
       "    .dataframe thead th {\n",
       "        text-align: right;\n",
       "    }\n",
       "</style>\n",
       "<table border=\"1\" class=\"dataframe\">\n",
       "  <thead>\n",
       "    <tr style=\"text-align: right;\">\n",
       "      <th></th>\n",
       "      <th>working_flag</th>\n",
       "    </tr>\n",
       "    <tr>\n",
       "      <th>preferred_location_type</th>\n",
       "      <th></th>\n",
       "    </tr>\n",
       "  </thead>\n",
       "  <tbody>\n",
       "    <tr>\n",
       "      <th>Beach</th>\n",
       "      <td>2424</td>\n",
       "    </tr>\n",
       "    <tr>\n",
       "      <th>Big Cities</th>\n",
       "      <td>636</td>\n",
       "    </tr>\n",
       "    <tr>\n",
       "      <th>Entertainment</th>\n",
       "      <td>516</td>\n",
       "    </tr>\n",
       "    <tr>\n",
       "      <th>Financial</th>\n",
       "      <td>2409</td>\n",
       "    </tr>\n",
       "    <tr>\n",
       "      <th>Game</th>\n",
       "      <td>12</td>\n",
       "    </tr>\n",
       "    <tr>\n",
       "      <th>Hill Stations</th>\n",
       "      <td>108</td>\n",
       "    </tr>\n",
       "    <tr>\n",
       "      <th>Historical site</th>\n",
       "      <td>1856</td>\n",
       "    </tr>\n",
       "    <tr>\n",
       "      <th>Medical</th>\n",
       "      <td>1845</td>\n",
       "    </tr>\n",
       "    <tr>\n",
       "      <th>Movie</th>\n",
       "      <td>5</td>\n",
       "    </tr>\n",
       "    <tr>\n",
       "      <th>OTT</th>\n",
       "      <td>7</td>\n",
       "    </tr>\n",
       "    <tr>\n",
       "      <th>Other</th>\n",
       "      <td>643</td>\n",
       "    </tr>\n",
       "    <tr>\n",
       "      <th>Social media</th>\n",
       "      <td>633</td>\n",
       "    </tr>\n",
       "    <tr>\n",
       "      <th>Tour  Travel</th>\n",
       "      <td>60</td>\n",
       "    </tr>\n",
       "    <tr>\n",
       "      <th>Tour and Travel</th>\n",
       "      <td>47</td>\n",
       "    </tr>\n",
       "    <tr>\n",
       "      <th>Trekking</th>\n",
       "      <td>528</td>\n",
       "    </tr>\n",
       "  </tbody>\n",
       "</table>\n",
       "</div>"
      ],
      "text/plain": [
       "                         working_flag\n",
       "preferred_location_type              \n",
       "Beach                            2424\n",
       "Big Cities                        636\n",
       "Entertainment                     516\n",
       "Financial                        2409\n",
       "Game                               12\n",
       "Hill Stations                     108\n",
       "Historical site                  1856\n",
       "Medical                          1845\n",
       "Movie                               5\n",
       "OTT                                 7\n",
       "Other                             643\n",
       "Social media                      633\n",
       "Tour  Travel                       60\n",
       "Tour and Travel                    47\n",
       "Trekking                          528"
      ]
     },
     "execution_count": 169,
     "metadata": {},
     "output_type": "execute_result"
    }
   ],
   "source": [
    "df.groupby(\"preferred_location_type\").agg({\"working_flag\":\"count\"})"
   ]
  },
  {
   "cell_type": "code",
   "execution_count": 170,
   "id": "ed8f133b",
   "metadata": {},
   "outputs": [],
   "source": [
    "loc=pd.pivot_table(df,index=\"Taken_product\",columns=\"preferred_location_type\",values=\"working_flag\",aggfunc=\"count\")"
   ]
  },
  {
   "cell_type": "code",
   "execution_count": 171,
   "id": "2648c61a",
   "metadata": {},
   "outputs": [
    {
     "data": {
      "text/plain": [
       "<Axes: xlabel='preferred_location_type'>"
      ]
     },
     "execution_count": 171,
     "metadata": {},
     "output_type": "execute_result"
    },
    {
     "data": {
      "image/png": "[encoded data removed]",
      "text/plain": [
       "<Figure size 800x800 with 1 Axes>"
      ]
     },
     "metadata": {},
     "output_type": "display_data"
    }
   ],
   "source": [
    "loc.T.plot.bar(figsize=(8,8))"
   ]
  },
  {
   "cell_type": "code",
   "execution_count": 172,
   "id": "8f450886",
   "metadata": {},
   "outputs": [
    {
     "data": {
      "text/plain": [
       "UserID                                            0\n",
       "Taken_product                                     0\n",
       "Yearly_avg_view_on_travel_page                  581\n",
       "preferred_device                                 53\n",
       "total_likes_on_outstation_checkin_given         381\n",
       "yearly_avg_Outstation_checkins                   76\n",
       "member_in_family                                  0\n",
       "preferred_location_type                          31\n",
       "Yearly_avg_comment_on_travel_page               206\n",
       "total_likes_on_outofstation_checkin_received      0\n",
       "week_since_last_outstation_checkin                0\n",
       "following_company_page                          103\n",
       "montly_avg_comment_on_company_page                0\n",
       "working_flag                                      0\n",
       "travelling_network_rating                         0\n",
       "Adult_flag                                        0\n",
       "Daily_Avg_mins_spend_on_traveling_page            0\n",
       "dtype: int64"
      ]
     },
     "execution_count": 172,
     "metadata": {},
     "output_type": "execute_result"
    }
   ],
   "source": [
    "df.isnull().sum()"
   ]
  },
  {
   "cell_type": "code",
   "execution_count": 173,
   "id": "b72389a3",
   "metadata": {},
   "outputs": [
    {
     "data": {
      "text/plain": [
       "0    Beach\n",
       "Name: preferred_location_type, dtype: object"
      ]
     },
     "execution_count": 173,
     "metadata": {},
     "output_type": "execute_result"
    }
   ],
   "source": [
    "df[\"preferred_location_type\"].mode()"
   ]
  },
  {
   "cell_type": "code",
   "execution_count": 174,
   "id": "ee6ea488",
   "metadata": {},
   "outputs": [],
   "source": [
    "df[\"preferred_location_type\"].fillna(\"Beach\",inplace=True)"
   ]
  },
  {
   "cell_type": "code",
   "execution_count": 175,
   "id": "d185bf12",
   "metadata": {},
   "outputs": [
    {
     "data": {
      "text/plain": [
       "0    Tab\n",
       "Name: preferred_device, dtype: object"
      ]
     },
     "execution_count": 175,
     "metadata": {},
     "output_type": "execute_result"
    }
   ],
   "source": [
    "df[\"preferred_device\"].mode()"
   ]
  },
  {
   "cell_type": "code",
   "execution_count": 176,
   "id": "653aae18",
   "metadata": {},
   "outputs": [],
   "source": [
    "df[\"preferred_device\"].fillna(\"Tab\",inplace=True)"
   ]
  },
  {
   "cell_type": "code",
   "execution_count": 177,
   "id": "68c0839e",
   "metadata": {},
   "outputs": [],
   "source": [
    "pre_dev=df.groupby(\"preferred_location_type\")[\"Yearly_avg_view_on_travel_page\"].mean()\n",
    "pre_dev=pd.DataFrame(pre_dev)\n",
    "df=pd.merge(df,pre_dev,on=\"preferred_location_type\",how=\"left\")\n",
    "def pre_dev(a):\n",
    "    if np.isnan(a[\"Yearly_avg_view_on_travel_page_x\"]):\n",
    "        return a[\"Yearly_avg_view_on_travel_page_y\"]\n",
    "    else:\n",
    "        return a[\"Yearly_avg_view_on_travel_page_x\"]\n",
    "\n",
    "df[\"Yearly_avg_view_on_travel_page\"]=df.apply(pre_dev,axis=1)\n",
    "df.drop([\"Yearly_avg_view_on_travel_page_y\",\"Yearly_avg_view_on_travel_page_x\"],axis=1,inplace=True)"
   ]
  },
  {
   "cell_type": "code",
   "execution_count": 178,
   "id": "edc4d395",
   "metadata": {},
   "outputs": [],
   "source": [
    "pre_dev=df.groupby(\"preferred_location_type\")[\"total_likes_on_outstation_checkin_given\"].mean()\n",
    "pre_dev=pd.DataFrame(pre_dev)\n",
    "df=pd.merge(df,pre_dev,on=\"preferred_location_type\",how=\"left\")\n",
    "def pre_dev(a):\n",
    "    if np.isnan(a[\"total_likes_on_outstation_checkin_given_x\"]):\n",
    "        return a[\"total_likes_on_outstation_checkin_given_y\"]\n",
    "    else:\n",
    "        return a[\"total_likes_on_outstation_checkin_given_x\"]\n",
    "\n",
    "df[\"total_likes_on_outstation_checkin_given\"]=df.apply(pre_dev,axis=1)\n",
    "df.drop([\"total_likes_on_outstation_checkin_given_y\",\"total_likes_on_outstation_checkin_given_x\"],axis=1,inplace=True)"
   ]
  },
  {
   "cell_type": "code",
   "execution_count": 179,
   "id": "ac278487",
   "metadata": {},
   "outputs": [],
   "source": [
    "pre_dev=df.groupby(\"preferred_location_type\")[\"yearly_avg_Outstation_checkins\"].mean()\n",
    "pre_dev=pd.DataFrame(pre_dev)\n",
    "df=pd.merge(df,pre_dev,on=\"preferred_location_type\",how=\"left\")\n",
    "def pre_dev(a):\n",
    "    if np.isnan(a[\"yearly_avg_Outstation_checkins_x\"]):\n",
    "        return a[\"yearly_avg_Outstation_checkins_y\"]\n",
    "    else:\n",
    "        return a[\"yearly_avg_Outstation_checkins_x\"]\n",
    "\n",
    "df[\"yearly_avg_Outstation_checkins\"]=df.apply(pre_dev,axis=1)\n",
    "df.drop([\"yearly_avg_Outstation_checkins_y\",\"yearly_avg_Outstation_checkins_x\"],axis=1,inplace=True)"
   ]
  },
  {
   "cell_type": "code",
   "execution_count": 180,
   "id": "78e7f560",
   "metadata": {},
   "outputs": [],
   "source": [
    "pre_dev=df.groupby(\"preferred_location_type\")[\"Yearly_avg_comment_on_travel_page\"].mean()\n",
    "pre_dev=pd.DataFrame(pre_dev)\n",
    "df=pd.merge(df,pre_dev,on=\"preferred_location_type\",how=\"left\")\n",
    "def pre_dev(a):\n",
    "    if np.isnan(a[\"Yearly_avg_comment_on_travel_page_x\"]):\n",
    "        return a[\"Yearly_avg_comment_on_travel_page_y\"]\n",
    "    else:\n",
    "        return a[\"Yearly_avg_comment_on_travel_page_x\"]\n",
    "\n",
    "df[\"Yearly_avg_comment_on_travel_page\"]=df.apply(pre_dev,axis=1)\n",
    "df.drop([\"Yearly_avg_comment_on_travel_page_y\",\"Yearly_avg_comment_on_travel_page_x\"],axis=1,inplace=True)"
   ]
  },
  {
   "cell_type": "code",
   "execution_count": 181,
   "id": "3cb60660",
   "metadata": {},
   "outputs": [
    {
     "data": {
      "text/plain": [
       "0    No\n",
       "Name: following_company_page, dtype: object"
      ]
     },
     "execution_count": 181,
     "metadata": {},
     "output_type": "execute_result"
    }
   ],
   "source": [
    "df[\"following_company_page\"].mode()"
   ]
  },
  {
   "cell_type": "code",
   "execution_count": 182,
   "id": "175291a5",
   "metadata": {},
   "outputs": [],
   "source": [
    "df[\"following_company_page\"].fillna(\"No\",inplace=True)"
   ]
  },
  {
   "cell_type": "code",
   "execution_count": 183,
   "id": "178d475a",
   "metadata": {},
   "outputs": [
    {
     "data": {
      "text/plain": [
       "UserID                                          0\n",
       "Taken_product                                   0\n",
       "preferred_device                                0\n",
       "member_in_family                                0\n",
       "preferred_location_type                         0\n",
       "total_likes_on_outofstation_checkin_received    0\n",
       "week_since_last_outstation_checkin              0\n",
       "following_company_page                          0\n",
       "montly_avg_comment_on_company_page              0\n",
       "working_flag                                    0\n",
       "travelling_network_rating                       0\n",
       "Adult_flag                                      0\n",
       "Daily_Avg_mins_spend_on_traveling_page          0\n",
       "Yearly_avg_view_on_travel_page                  0\n",
       "total_likes_on_outstation_checkin_given         0\n",
       "yearly_avg_Outstation_checkins                  0\n",
       "Yearly_avg_comment_on_travel_page               0\n",
       "dtype: int64"
      ]
     },
     "execution_count": 183,
     "metadata": {},
     "output_type": "execute_result"
    }
   ],
   "source": [
    "df.isnull().sum()"
   ]
  },
  {
   "cell_type": "code",
   "execution_count": 184,
   "id": "db4a9e8b",
   "metadata": {},
   "outputs": [],
   "source": [
    "df[\"member_in_family\"]=df[\"member_in_family\"].astype(int)"
   ]
  },
  {
   "cell_type": "code",
   "execution_count": 185,
   "id": "63d45d2f",
   "metadata": {},
   "outputs": [
    {
     "name": "stdout",
     "output_type": "stream",
     "text": [
      "<class 'pandas.core.frame.DataFrame'>\n",
      "Int64Index: 11760 entries, 0 to 11759\n",
      "Data columns (total 17 columns):\n",
      " #   Column                                        Non-Null Count  Dtype  \n",
      "---  ------                                        --------------  -----  \n",
      " 0   UserID                                        11760 non-null  int64  \n",
      " 1   Taken_product                                 11760 non-null  object \n",
      " 2   preferred_device                              11760 non-null  object \n",
      " 3   member_in_family                              11760 non-null  int32  \n",
      " 4   preferred_location_type                       11760 non-null  object \n",
      " 5   total_likes_on_outofstation_checkin_received  11760 non-null  int64  \n",
      " 6   week_since_last_outstation_checkin            11760 non-null  int64  \n",
      " 7   following_company_page                        11760 non-null  object \n",
      " 8   montly_avg_comment_on_company_page            11760 non-null  int64  \n",
      " 9   working_flag                                  11760 non-null  object \n",
      " 10  travelling_network_rating                     11760 non-null  int64  \n",
      " 11  Adult_flag                                    11760 non-null  int64  \n",
      " 12  Daily_Avg_mins_spend_on_traveling_page        11760 non-null  int64  \n",
      " 13  Yearly_avg_view_on_travel_page                11760 non-null  float64\n",
      " 14  total_likes_on_outstation_checkin_given       11760 non-null  float64\n",
      " 15  yearly_avg_Outstation_checkins                11760 non-null  float64\n",
      " 16  Yearly_avg_comment_on_travel_page             11760 non-null  float64\n",
      "dtypes: float64(4), int32(1), int64(7), object(5)\n",
      "memory usage: 1.6+ MB\n"
     ]
    }
   ],
   "source": [
    "df.info()"
   ]
  },
  {
   "cell_type": "code",
   "execution_count": 186,
   "id": "6bb6e1db",
   "metadata": {},
   "outputs": [],
   "source": [
    "df=pd.get_dummies(df,prefix=[\"PD_\",\"PLT_\"],columns=[\"preferred_device\",\"preferred_location_type\"])"
   ]
  },
  {
   "cell_type": "code",
   "execution_count": 187,
   "id": "6b253653",
   "metadata": {},
   "outputs": [
    {
     "data": {
      "text/html": [
       "<div>\n",
       "<style scoped>\n",
       "    .dataframe tbody tr th:only-of-type {\n",
       "        vertical-align: middle;\n",
       "    }\n",
       "\n",
       "    .dataframe tbody tr th {\n",
       "        vertical-align: top;\n",
       "    }\n",
       "\n",
       "    .dataframe thead th {\n",
       "        text-align: right;\n",
       "    }\n",
       "</style>\n",
       "<table border=\"1\" class=\"dataframe\">\n",
       "  <thead>\n",
       "    <tr style=\"text-align: right;\">\n",
       "      <th></th>\n",
       "      <th>UserID</th>\n",
       "      <th>Taken_product</th>\n",
       "      <th>member_in_family</th>\n",
       "      <th>total_likes_on_outofstation_checkin_received</th>\n",
       "      <th>week_since_last_outstation_checkin</th>\n",
       "      <th>following_company_page</th>\n",
       "      <th>montly_avg_comment_on_company_page</th>\n",
       "      <th>working_flag</th>\n",
       "      <th>travelling_network_rating</th>\n",
       "      <th>Adult_flag</th>\n",
       "      <th>...</th>\n",
       "      <th>PLT__Hill Stations</th>\n",
       "      <th>PLT__Historical site</th>\n",
       "      <th>PLT__Medical</th>\n",
       "      <th>PLT__Movie</th>\n",
       "      <th>PLT__OTT</th>\n",
       "      <th>PLT__Other</th>\n",
       "      <th>PLT__Social media</th>\n",
       "      <th>PLT__Tour  Travel</th>\n",
       "      <th>PLT__Tour and Travel</th>\n",
       "      <th>PLT__Trekking</th>\n",
       "    </tr>\n",
       "  </thead>\n",
       "  <tbody>\n",
       "    <tr>\n",
       "      <th>0</th>\n",
       "      <td>1000001</td>\n",
       "      <td>Yes</td>\n",
       "      <td>2</td>\n",
       "      <td>5993</td>\n",
       "      <td>8</td>\n",
       "      <td>Yes</td>\n",
       "      <td>11</td>\n",
       "      <td>No</td>\n",
       "      <td>1</td>\n",
       "      <td>0</td>\n",
       "      <td>...</td>\n",
       "      <td>0</td>\n",
       "      <td>0</td>\n",
       "      <td>0</td>\n",
       "      <td>0</td>\n",
       "      <td>0</td>\n",
       "      <td>0</td>\n",
       "      <td>0</td>\n",
       "      <td>0</td>\n",
       "      <td>0</td>\n",
       "      <td>0</td>\n",
       "    </tr>\n",
       "    <tr>\n",
       "      <th>1</th>\n",
       "      <td>1000002</td>\n",
       "      <td>No</td>\n",
       "      <td>1</td>\n",
       "      <td>5130</td>\n",
       "      <td>1</td>\n",
       "      <td>No</td>\n",
       "      <td>23</td>\n",
       "      <td>Yes</td>\n",
       "      <td>4</td>\n",
       "      <td>1</td>\n",
       "      <td>...</td>\n",
       "      <td>0</td>\n",
       "      <td>0</td>\n",
       "      <td>0</td>\n",
       "      <td>0</td>\n",
       "      <td>0</td>\n",
       "      <td>0</td>\n",
       "      <td>0</td>\n",
       "      <td>0</td>\n",
       "      <td>0</td>\n",
       "      <td>0</td>\n",
       "    </tr>\n",
       "    <tr>\n",
       "      <th>2</th>\n",
       "      <td>1000003</td>\n",
       "      <td>Yes</td>\n",
       "      <td>2</td>\n",
       "      <td>2090</td>\n",
       "      <td>6</td>\n",
       "      <td>Yes</td>\n",
       "      <td>15</td>\n",
       "      <td>No</td>\n",
       "      <td>2</td>\n",
       "      <td>0</td>\n",
       "      <td>...</td>\n",
       "      <td>0</td>\n",
       "      <td>0</td>\n",
       "      <td>0</td>\n",
       "      <td>0</td>\n",
       "      <td>0</td>\n",
       "      <td>1</td>\n",
       "      <td>0</td>\n",
       "      <td>0</td>\n",
       "      <td>0</td>\n",
       "      <td>0</td>\n",
       "    </tr>\n",
       "    <tr>\n",
       "      <th>3</th>\n",
       "      <td>1000004</td>\n",
       "      <td>No</td>\n",
       "      <td>4</td>\n",
       "      <td>2909</td>\n",
       "      <td>1</td>\n",
       "      <td>Yes</td>\n",
       "      <td>11</td>\n",
       "      <td>No</td>\n",
       "      <td>3</td>\n",
       "      <td>0</td>\n",
       "      <td>...</td>\n",
       "      <td>0</td>\n",
       "      <td>0</td>\n",
       "      <td>0</td>\n",
       "      <td>0</td>\n",
       "      <td>0</td>\n",
       "      <td>0</td>\n",
       "      <td>0</td>\n",
       "      <td>0</td>\n",
       "      <td>0</td>\n",
       "      <td>0</td>\n",
       "    </tr>\n",
       "    <tr>\n",
       "      <th>4</th>\n",
       "      <td>1000005</td>\n",
       "      <td>No</td>\n",
       "      <td>1</td>\n",
       "      <td>3468</td>\n",
       "      <td>9</td>\n",
       "      <td>No</td>\n",
       "      <td>12</td>\n",
       "      <td>No</td>\n",
       "      <td>4</td>\n",
       "      <td>1</td>\n",
       "      <td>...</td>\n",
       "      <td>0</td>\n",
       "      <td>0</td>\n",
       "      <td>1</td>\n",
       "      <td>0</td>\n",
       "      <td>0</td>\n",
       "      <td>0</td>\n",
       "      <td>0</td>\n",
       "      <td>0</td>\n",
       "      <td>0</td>\n",
       "      <td>0</td>\n",
       "    </tr>\n",
       "  </tbody>\n",
       "</table>\n",
       "<p>5 rows × 37 columns</p>\n",
       "</div>"
      ],
      "text/plain": [
       "    UserID Taken_product  member_in_family  \\\n",
       "0  1000001           Yes                 2   \n",
       "1  1000002            No                 1   \n",
       "2  1000003           Yes                 2   \n",
       "3  1000004            No                 4   \n",
       "4  1000005            No                 1   \n",
       "\n",
       "   total_likes_on_outofstation_checkin_received  \\\n",
       "0                                          5993   \n",
       "1                                          5130   \n",
       "2                                          2090   \n",
       "3                                          2909   \n",
       "4                                          3468   \n",
       "\n",
       "   week_since_last_outstation_checkin following_company_page  \\\n",
       "0                                   8                    Yes   \n",
       "1                                   1                     No   \n",
       "2                                   6                    Yes   \n",
       "3                                   1                    Yes   \n",
       "4                                   9                     No   \n",
       "\n",
       "   montly_avg_comment_on_company_page working_flag  travelling_network_rating  \\\n",
       "0                                  11           No                          1   \n",
       "1                                  23          Yes                          4   \n",
       "2                                  15           No                          2   \n",
       "3                                  11           No                          3   \n",
       "4                                  12           No                          4   \n",
       "\n",
       "   Adult_flag  ...  PLT__Hill Stations  PLT__Historical site  PLT__Medical  \\\n",
       "0           0  ...                   0                     0             0   \n",
       "1           1  ...                   0                     0             0   \n",
       "2           0  ...                   0                     0             0   \n",
       "3           0  ...                   0                     0             0   \n",
       "4           1  ...                   0                     0             1   \n",
       "\n",
       "   PLT__Movie  PLT__OTT  PLT__Other  PLT__Social media  PLT__Tour  Travel  \\\n",
       "0           0         0           0                  0                  0   \n",
       "1           0         0           0                  0                  0   \n",
       "2           0         0           1                  0                  0   \n",
       "3           0         0           0                  0                  0   \n",
       "4           0         0           0                  0                  0   \n",
       "\n",
       "   PLT__Tour and Travel  PLT__Trekking  \n",
       "0                     0              0  \n",
       "1                     0              0  \n",
       "2                     0              0  \n",
       "3                     0              0  \n",
       "4                     0              0  \n",
       "\n",
       "[5 rows x 37 columns]"
      ]
     },
     "execution_count": 187,
     "metadata": {},
     "output_type": "execute_result"
    }
   ],
   "source": [
    "df.head()"
   ]
  },
  {
   "cell_type": "code",
   "execution_count": 188,
   "id": "d08ab29f",
   "metadata": {},
   "outputs": [],
   "source": [
    "le=LabelEncoder()"
   ]
  },
  {
   "cell_type": "code",
   "execution_count": 189,
   "id": "ffdae0c5",
   "metadata": {},
   "outputs": [],
   "source": [
    "tp=pd.DataFrame(le.fit_transform(df[\"Taken_product\"]),columns=[\"Taken_product\"])   #yes-1, no-0"
   ]
  },
  {
   "cell_type": "code",
   "execution_count": 190,
   "id": "1d006264",
   "metadata": {},
   "outputs": [],
   "source": [
    "fcp=pd.DataFrame(le.fit_transform(df[\"following_company_page\"]),columns=[\"following_company_page\"])  #yes-1 no-0"
   ]
  },
  {
   "cell_type": "code",
   "execution_count": 191,
   "id": "d1f773ac",
   "metadata": {},
   "outputs": [],
   "source": [
    "wf=pd.DataFrame(le.fit_transform(df[\"working_flag\"]),columns=[\"working_flag\"])    #no-0 yes-1"
   ]
  },
  {
   "cell_type": "code",
   "execution_count": 193,
   "id": "8d4dfb2a",
   "metadata": {},
   "outputs": [],
   "source": [
    "df=df.drop([\"Taken_product\",\"following_company_page\",\"working_flag\"],axis=1)"
   ]
  },
  {
   "cell_type": "code",
   "execution_count": 194,
   "id": "98cdf959",
   "metadata": {},
   "outputs": [],
   "source": [
    "df=pd.concat([df,tp,fcp,wf],axis=1)"
   ]
  },
  {
   "cell_type": "code",
   "execution_count": 196,
   "id": "e62a4761",
   "metadata": {},
   "outputs": [
    {
     "data": {
      "text/html": [
       "<div>\n",
       "<style scoped>\n",
       "    .dataframe tbody tr th:only-of-type {\n",
       "        vertical-align: middle;\n",
       "    }\n",
       "\n",
       "    .dataframe tbody tr th {\n",
       "        vertical-align: top;\n",
       "    }\n",
       "\n",
       "    .dataframe thead th {\n",
       "        text-align: right;\n",
       "    }\n",
       "</style>\n",
       "<table border=\"1\" class=\"dataframe\">\n",
       "  <thead>\n",
       "    <tr style=\"text-align: right;\">\n",
       "      <th></th>\n",
       "      <th>UserID</th>\n",
       "      <th>member_in_family</th>\n",
       "      <th>total_likes_on_outofstation_checkin_received</th>\n",
       "      <th>week_since_last_outstation_checkin</th>\n",
       "      <th>montly_avg_comment_on_company_page</th>\n",
       "      <th>travelling_network_rating</th>\n",
       "      <th>Adult_flag</th>\n",
       "      <th>Daily_Avg_mins_spend_on_traveling_page</th>\n",
       "      <th>Yearly_avg_view_on_travel_page</th>\n",
       "      <th>total_likes_on_outstation_checkin_given</th>\n",
       "      <th>...</th>\n",
       "      <th>PLT__Movie</th>\n",
       "      <th>PLT__OTT</th>\n",
       "      <th>PLT__Other</th>\n",
       "      <th>PLT__Social media</th>\n",
       "      <th>PLT__Tour  Travel</th>\n",
       "      <th>PLT__Tour and Travel</th>\n",
       "      <th>PLT__Trekking</th>\n",
       "      <th>Taken_product</th>\n",
       "      <th>following_company_page</th>\n",
       "      <th>working_flag</th>\n",
       "    </tr>\n",
       "  </thead>\n",
       "  <tbody>\n",
       "    <tr>\n",
       "      <th>0</th>\n",
       "      <td>1000001</td>\n",
       "      <td>2</td>\n",
       "      <td>5993</td>\n",
       "      <td>8</td>\n",
       "      <td>11</td>\n",
       "      <td>1</td>\n",
       "      <td>0</td>\n",
       "      <td>8</td>\n",
       "      <td>307.0</td>\n",
       "      <td>38570.0</td>\n",
       "      <td>...</td>\n",
       "      <td>0</td>\n",
       "      <td>0</td>\n",
       "      <td>0</td>\n",
       "      <td>0</td>\n",
       "      <td>0</td>\n",
       "      <td>0</td>\n",
       "      <td>0</td>\n",
       "      <td>1</td>\n",
       "      <td>1</td>\n",
       "      <td>0</td>\n",
       "    </tr>\n",
       "    <tr>\n",
       "      <th>1</th>\n",
       "      <td>1000002</td>\n",
       "      <td>1</td>\n",
       "      <td>5130</td>\n",
       "      <td>1</td>\n",
       "      <td>23</td>\n",
       "      <td>4</td>\n",
       "      <td>1</td>\n",
       "      <td>10</td>\n",
       "      <td>367.0</td>\n",
       "      <td>9765.0</td>\n",
       "      <td>...</td>\n",
       "      <td>0</td>\n",
       "      <td>0</td>\n",
       "      <td>0</td>\n",
       "      <td>0</td>\n",
       "      <td>0</td>\n",
       "      <td>0</td>\n",
       "      <td>0</td>\n",
       "      <td>0</td>\n",
       "      <td>0</td>\n",
       "      <td>1</td>\n",
       "    </tr>\n",
       "    <tr>\n",
       "      <th>2</th>\n",
       "      <td>1000003</td>\n",
       "      <td>2</td>\n",
       "      <td>2090</td>\n",
       "      <td>6</td>\n",
       "      <td>15</td>\n",
       "      <td>2</td>\n",
       "      <td>0</td>\n",
       "      <td>7</td>\n",
       "      <td>277.0</td>\n",
       "      <td>48055.0</td>\n",
       "      <td>...</td>\n",
       "      <td>0</td>\n",
       "      <td>0</td>\n",
       "      <td>1</td>\n",
       "      <td>0</td>\n",
       "      <td>0</td>\n",
       "      <td>0</td>\n",
       "      <td>0</td>\n",
       "      <td>1</td>\n",
       "      <td>1</td>\n",
       "      <td>0</td>\n",
       "    </tr>\n",
       "    <tr>\n",
       "      <th>3</th>\n",
       "      <td>1000004</td>\n",
       "      <td>4</td>\n",
       "      <td>2909</td>\n",
       "      <td>1</td>\n",
       "      <td>11</td>\n",
       "      <td>3</td>\n",
       "      <td>0</td>\n",
       "      <td>8</td>\n",
       "      <td>247.0</td>\n",
       "      <td>48720.0</td>\n",
       "      <td>...</td>\n",
       "      <td>0</td>\n",
       "      <td>0</td>\n",
       "      <td>0</td>\n",
       "      <td>0</td>\n",
       "      <td>0</td>\n",
       "      <td>0</td>\n",
       "      <td>0</td>\n",
       "      <td>0</td>\n",
       "      <td>1</td>\n",
       "      <td>0</td>\n",
       "    </tr>\n",
       "    <tr>\n",
       "      <th>4</th>\n",
       "      <td>1000005</td>\n",
       "      <td>1</td>\n",
       "      <td>3468</td>\n",
       "      <td>9</td>\n",
       "      <td>12</td>\n",
       "      <td>4</td>\n",
       "      <td>1</td>\n",
       "      <td>6</td>\n",
       "      <td>202.0</td>\n",
       "      <td>20685.0</td>\n",
       "      <td>...</td>\n",
       "      <td>0</td>\n",
       "      <td>0</td>\n",
       "      <td>0</td>\n",
       "      <td>0</td>\n",
       "      <td>0</td>\n",
       "      <td>0</td>\n",
       "      <td>0</td>\n",
       "      <td>0</td>\n",
       "      <td>0</td>\n",
       "      <td>0</td>\n",
       "    </tr>\n",
       "  </tbody>\n",
       "</table>\n",
       "<p>5 rows × 37 columns</p>\n",
       "</div>"
      ],
      "text/plain": [
       "    UserID  member_in_family  total_likes_on_outofstation_checkin_received  \\\n",
       "0  1000001                 2                                          5993   \n",
       "1  1000002                 1                                          5130   \n",
       "2  1000003                 2                                          2090   \n",
       "3  1000004                 4                                          2909   \n",
       "4  1000005                 1                                          3468   \n",
       "\n",
       "   week_since_last_outstation_checkin  montly_avg_comment_on_company_page  \\\n",
       "0                                   8                                  11   \n",
       "1                                   1                                  23   \n",
       "2                                   6                                  15   \n",
       "3                                   1                                  11   \n",
       "4                                   9                                  12   \n",
       "\n",
       "   travelling_network_rating  Adult_flag  \\\n",
       "0                          1           0   \n",
       "1                          4           1   \n",
       "2                          2           0   \n",
       "3                          3           0   \n",
       "4                          4           1   \n",
       "\n",
       "   Daily_Avg_mins_spend_on_traveling_page  Yearly_avg_view_on_travel_page  \\\n",
       "0                                       8                           307.0   \n",
       "1                                      10                           367.0   \n",
       "2                                       7                           277.0   \n",
       "3                                       8                           247.0   \n",
       "4                                       6                           202.0   \n",
       "\n",
       "   total_likes_on_outstation_checkin_given  ...  PLT__Movie  PLT__OTT  \\\n",
       "0                                  38570.0  ...           0         0   \n",
       "1                                   9765.0  ...           0         0   \n",
       "2                                  48055.0  ...           0         0   \n",
       "3                                  48720.0  ...           0         0   \n",
       "4                                  20685.0  ...           0         0   \n",
       "\n",
       "   PLT__Other  PLT__Social media  PLT__Tour  Travel  PLT__Tour and Travel  \\\n",
       "0           0                  0                  0                     0   \n",
       "1           0                  0                  0                     0   \n",
       "2           1                  0                  0                     0   \n",
       "3           0                  0                  0                     0   \n",
       "4           0                  0                  0                     0   \n",
       "\n",
       "   PLT__Trekking  Taken_product  following_company_page  working_flag  \n",
       "0              0              1                       1             0  \n",
       "1              0              0                       0             1  \n",
       "2              0              1                       1             0  \n",
       "3              0              0                       1             0  \n",
       "4              0              0                       0             0  \n",
       "\n",
       "[5 rows x 37 columns]"
      ]
     },
     "execution_count": 196,
     "metadata": {},
     "output_type": "execute_result"
    }
   ],
   "source": [
    "df.head()"
   ]
  },
  {
   "cell_type": "code",
   "execution_count": 198,
   "id": "a9f890dc",
   "metadata": {},
   "outputs": [],
   "source": [
    "df=df.drop([\"UserID\"],axis=1)"
   ]
  },
  {
   "cell_type": "code",
   "execution_count": 199,
   "id": "9206dc08",
   "metadata": {},
   "outputs": [],
   "source": [
    "minmax=MinMaxScaler()"
   ]
  },
  {
   "cell_type": "code",
   "execution_count": 202,
   "id": "d728297e",
   "metadata": {},
   "outputs": [],
   "source": [
    "df=pd.DataFrame(minmax.fit_transform(df),columns=df.columns)"
   ]
  },
  {
   "cell_type": "code",
   "execution_count": 203,
   "id": "8f9de22a",
   "metadata": {},
   "outputs": [
    {
     "data": {
      "text/html": [
       "<div>\n",
       "<style scoped>\n",
       "    .dataframe tbody tr th:only-of-type {\n",
       "        vertical-align: middle;\n",
       "    }\n",
       "\n",
       "    .dataframe tbody tr th {\n",
       "        vertical-align: top;\n",
       "    }\n",
       "\n",
       "    .dataframe thead th {\n",
       "        text-align: right;\n",
       "    }\n",
       "</style>\n",
       "<table border=\"1\" class=\"dataframe\">\n",
       "  <thead>\n",
       "    <tr style=\"text-align: right;\">\n",
       "      <th></th>\n",
       "      <th>member_in_family</th>\n",
       "      <th>total_likes_on_outofstation_checkin_received</th>\n",
       "      <th>week_since_last_outstation_checkin</th>\n",
       "      <th>montly_avg_comment_on_company_page</th>\n",
       "      <th>travelling_network_rating</th>\n",
       "      <th>Adult_flag</th>\n",
       "      <th>Daily_Avg_mins_spend_on_traveling_page</th>\n",
       "      <th>Yearly_avg_view_on_travel_page</th>\n",
       "      <th>total_likes_on_outstation_checkin_given</th>\n",
       "      <th>yearly_avg_Outstation_checkins</th>\n",
       "      <th>...</th>\n",
       "      <th>PLT__Movie</th>\n",
       "      <th>PLT__OTT</th>\n",
       "      <th>PLT__Other</th>\n",
       "      <th>PLT__Social media</th>\n",
       "      <th>PLT__Tour  Travel</th>\n",
       "      <th>PLT__Tour and Travel</th>\n",
       "      <th>PLT__Trekking</th>\n",
       "      <th>Taken_product</th>\n",
       "      <th>following_company_page</th>\n",
       "      <th>working_flag</th>\n",
       "    </tr>\n",
       "  </thead>\n",
       "  <tbody>\n",
       "    <tr>\n",
       "      <th>0</th>\n",
       "      <td>0.111111</td>\n",
       "      <td>0.261545</td>\n",
       "      <td>0.727273</td>\n",
       "      <td>0.000000</td>\n",
       "      <td>0.000000</td>\n",
       "      <td>0.000000</td>\n",
       "      <td>0.029630</td>\n",
       "      <td>0.634033</td>\n",
       "      <td>0.140641</td>\n",
       "      <td>0.0</td>\n",
       "      <td>...</td>\n",
       "      <td>0.0</td>\n",
       "      <td>0.0</td>\n",
       "      <td>0.0</td>\n",
       "      <td>0.0</td>\n",
       "      <td>0.0</td>\n",
       "      <td>0.0</td>\n",
       "      <td>0.0</td>\n",
       "      <td>1.0</td>\n",
       "      <td>1.0</td>\n",
       "      <td>0.0</td>\n",
       "    </tr>\n",
       "    <tr>\n",
       "      <th>1</th>\n",
       "      <td>0.000000</td>\n",
       "      <td>0.216257</td>\n",
       "      <td>0.090909</td>\n",
       "      <td>0.024540</td>\n",
       "      <td>1.000000</td>\n",
       "      <td>0.333333</td>\n",
       "      <td>0.037037</td>\n",
       "      <td>0.773893</td>\n",
       "      <td>0.024894</td>\n",
       "      <td>0.0</td>\n",
       "      <td>...</td>\n",
       "      <td>0.0</td>\n",
       "      <td>0.0</td>\n",
       "      <td>0.0</td>\n",
       "      <td>0.0</td>\n",
       "      <td>0.0</td>\n",
       "      <td>0.0</td>\n",
       "      <td>0.0</td>\n",
       "      <td>0.0</td>\n",
       "      <td>0.0</td>\n",
       "      <td>1.0</td>\n",
       "    </tr>\n",
       "    <tr>\n",
       "      <th>2</th>\n",
       "      <td>0.111111</td>\n",
       "      <td>0.056728</td>\n",
       "      <td>0.545455</td>\n",
       "      <td>0.008180</td>\n",
       "      <td>0.333333</td>\n",
       "      <td>0.000000</td>\n",
       "      <td>0.025926</td>\n",
       "      <td>0.564103</td>\n",
       "      <td>0.178755</td>\n",
       "      <td>0.0</td>\n",
       "      <td>...</td>\n",
       "      <td>0.0</td>\n",
       "      <td>0.0</td>\n",
       "      <td>1.0</td>\n",
       "      <td>0.0</td>\n",
       "      <td>0.0</td>\n",
       "      <td>0.0</td>\n",
       "      <td>0.0</td>\n",
       "      <td>1.0</td>\n",
       "      <td>1.0</td>\n",
       "      <td>0.0</td>\n",
       "    </tr>\n",
       "    <tr>\n",
       "      <th>3</th>\n",
       "      <td>0.333333</td>\n",
       "      <td>0.099706</td>\n",
       "      <td>0.090909</td>\n",
       "      <td>0.000000</td>\n",
       "      <td>0.666667</td>\n",
       "      <td>0.000000</td>\n",
       "      <td>0.029630</td>\n",
       "      <td>0.494172</td>\n",
       "      <td>0.181427</td>\n",
       "      <td>0.0</td>\n",
       "      <td>...</td>\n",
       "      <td>0.0</td>\n",
       "      <td>0.0</td>\n",
       "      <td>0.0</td>\n",
       "      <td>0.0</td>\n",
       "      <td>0.0</td>\n",
       "      <td>0.0</td>\n",
       "      <td>0.0</td>\n",
       "      <td>0.0</td>\n",
       "      <td>1.0</td>\n",
       "      <td>0.0</td>\n",
       "    </tr>\n",
       "    <tr>\n",
       "      <th>4</th>\n",
       "      <td>0.000000</td>\n",
       "      <td>0.129041</td>\n",
       "      <td>0.818182</td>\n",
       "      <td>0.002045</td>\n",
       "      <td>1.000000</td>\n",
       "      <td>0.333333</td>\n",
       "      <td>0.022222</td>\n",
       "      <td>0.389277</td>\n",
       "      <td>0.068774</td>\n",
       "      <td>0.0</td>\n",
       "      <td>...</td>\n",
       "      <td>0.0</td>\n",
       "      <td>0.0</td>\n",
       "      <td>0.0</td>\n",
       "      <td>0.0</td>\n",
       "      <td>0.0</td>\n",
       "      <td>0.0</td>\n",
       "      <td>0.0</td>\n",
       "      <td>0.0</td>\n",
       "      <td>0.0</td>\n",
       "      <td>0.0</td>\n",
       "    </tr>\n",
       "  </tbody>\n",
       "</table>\n",
       "<p>5 rows × 36 columns</p>\n",
       "</div>"
      ],
      "text/plain": [
       "   member_in_family  total_likes_on_outofstation_checkin_received  \\\n",
       "0          0.111111                                      0.261545   \n",
       "1          0.000000                                      0.216257   \n",
       "2          0.111111                                      0.056728   \n",
       "3          0.333333                                      0.099706   \n",
       "4          0.000000                                      0.129041   \n",
       "\n",
       "   week_since_last_outstation_checkin  montly_avg_comment_on_company_page  \\\n",
       "0                            0.727273                            0.000000   \n",
       "1                            0.090909                            0.024540   \n",
       "2                            0.545455                            0.008180   \n",
       "3                            0.090909                            0.000000   \n",
       "4                            0.818182                            0.002045   \n",
       "\n",
       "   travelling_network_rating  Adult_flag  \\\n",
       "0                   0.000000    0.000000   \n",
       "1                   1.000000    0.333333   \n",
       "2                   0.333333    0.000000   \n",
       "3                   0.666667    0.000000   \n",
       "4                   1.000000    0.333333   \n",
       "\n",
       "   Daily_Avg_mins_spend_on_traveling_page  Yearly_avg_view_on_travel_page  \\\n",
       "0                                0.029630                        0.634033   \n",
       "1                                0.037037                        0.773893   \n",
       "2                                0.025926                        0.564103   \n",
       "3                                0.029630                        0.494172   \n",
       "4                                0.022222                        0.389277   \n",
       "\n",
       "   total_likes_on_outstation_checkin_given  yearly_avg_Outstation_checkins  \\\n",
       "0                                 0.140641                             0.0   \n",
       "1                                 0.024894                             0.0   \n",
       "2                                 0.178755                             0.0   \n",
       "3                                 0.181427                             0.0   \n",
       "4                                 0.068774                             0.0   \n",
       "\n",
       "   ...  PLT__Movie  PLT__OTT  PLT__Other  PLT__Social media  \\\n",
       "0  ...         0.0       0.0         0.0                0.0   \n",
       "1  ...         0.0       0.0         0.0                0.0   \n",
       "2  ...         0.0       0.0         1.0                0.0   \n",
       "3  ...         0.0       0.0         0.0                0.0   \n",
       "4  ...         0.0       0.0         0.0                0.0   \n",
       "\n",
       "   PLT__Tour  Travel  PLT__Tour and Travel  PLT__Trekking  Taken_product  \\\n",
       "0                0.0                   0.0            0.0            1.0   \n",
       "1                0.0                   0.0            0.0            0.0   \n",
       "2                0.0                   0.0            0.0            1.0   \n",
       "3                0.0                   0.0            0.0            0.0   \n",
       "4                0.0                   0.0            0.0            0.0   \n",
       "\n",
       "   following_company_page  working_flag  \n",
       "0                     1.0           0.0  \n",
       "1                     0.0           1.0  \n",
       "2                     1.0           0.0  \n",
       "3                     1.0           0.0  \n",
       "4                     0.0           0.0  \n",
       "\n",
       "[5 rows x 36 columns]"
      ]
     },
     "execution_count": 203,
     "metadata": {},
     "output_type": "execute_result"
    }
   ],
   "source": [
    "df.head()"
   ]
  },
  {
   "cell_type": "code",
   "execution_count": 208,
   "id": "47973a19",
   "metadata": {},
   "outputs": [],
   "source": [
    "y=df[[\"Taken_product\"]]"
   ]
  },
  {
   "cell_type": "code",
   "execution_count": 209,
   "id": "067a8cc5",
   "metadata": {},
   "outputs": [],
   "source": [
    "x=df.drop([\"Taken_product\"],axis=1)"
   ]
  },
  {
   "cell_type": "code",
   "execution_count": 211,
   "id": "2b596b18",
   "metadata": {},
   "outputs": [],
   "source": [
    "x_train,x_test,y_train,y_test=train_test_split(x,y,test_size=0.3,random_state=1)"
   ]
  },
  {
   "cell_type": "code",
   "execution_count": 212,
   "id": "f07e9d23",
   "metadata": {},
   "outputs": [],
   "source": [
    "log_reg=LogisticRegression()"
   ]
  },
  {
   "cell_type": "code",
   "execution_count": 213,
   "id": "88937769",
   "metadata": {},
   "outputs": [
    {
     "name": "stderr",
     "output_type": "stream",
     "text": [
      "C:\\ProgramData\\New folder\\Lib\\site-packages\\sklearn\\utils\\validation.py:1184: DataConversionWarning: A column-vector y was passed when a 1d array was expected. Please change the shape of y to (n_samples, ), for example using ravel().\n",
      "  y = column_or_1d(y, warn=True)\n"
     ]
    },
    {
     "data": {
      "text/html": [
       "<style>#sk-container-id-1 {color: black;}#sk-container-id-1 pre{padding: 0;}#sk-container-id-1 div.sk-toggleable {background-color: white;}#sk-container-id-1 label.sk-toggleable__label {cursor: pointer;display: block;width: 100%;margin-bottom: 0;padding: 0.3em;box-sizing: border-box;text-align: center;}#sk-container-id-1 label.sk-toggleable__label-arrow:before {content: \"▸\";float: left;margin-right: 0.25em;color: #696969;}#sk-container-id-1 label.sk-toggleable__label-arrow:hover:before {color: black;}#sk-container-id-1 div.sk-estimator:hover label.sk-toggleable__label-arrow:before {color: black;}#sk-container-id-1 div.sk-toggleable__content {max-height: 0;max-width: 0;overflow: hidden;text-align: left;background-color: #f0f8ff;}#sk-container-id-1 div.sk-toggleable__content pre {margin: 0.2em;color: black;border-radius: 0.25em;background-color: #f0f8ff;}#sk-container-id-1 input.sk-toggleable__control:checked~div.sk-toggleable__content {max-height: 200px;max-width: 100%;overflow: auto;}#sk-container-id-1 input.sk-toggleable__control:checked~label.sk-toggleable__label-arrow:before {content: \"▾\";}#sk-container-id-1 div.sk-estimator input.sk-toggleable__control:checked~label.sk-toggleable__label {background-color: #d4ebff;}#sk-container-id-1 div.sk-label input.sk-toggleable__control:checked~label.sk-toggleable__label {background-color: #d4ebff;}#sk-container-id-1 input.sk-hidden--visually {border: 0;clip: rect(1px 1px 1px 1px);clip: rect(1px, 1px, 1px, 1px);height: 1px;margin: -1px;overflow: hidden;padding: 0;position: absolute;width: 1px;}#sk-container-id-1 div.sk-estimator {font-family: monospace;background-color: #f0f8ff;border: 1px dotted black;border-radius: 0.25em;box-sizing: border-box;margin-bottom: 0.5em;}#sk-container-id-1 div.sk-estimator:hover {background-color: #d4ebff;}#sk-container-id-1 div.sk-parallel-item::after {content: \"\";width: 100%;border-bottom: 1px solid gray;flex-grow: 1;}#sk-container-id-1 div.sk-label:hover label.sk-toggleable__label {background-color: #d4ebff;}#sk-container-id-1 div.sk-serial::before {content: \"\";position: absolute;border-left: 1px solid gray;box-sizing: border-box;top: 0;bottom: 0;left: 50%;z-index: 0;}#sk-container-id-1 div.sk-serial {display: flex;flex-direction: column;align-items: center;background-color: white;padding-right: 0.2em;padding-left: 0.2em;position: relative;}#sk-container-id-1 div.sk-item {position: relative;z-index: 1;}#sk-container-id-1 div.sk-parallel {display: flex;align-items: stretch;justify-content: center;background-color: white;position: relative;}#sk-container-id-1 div.sk-item::before, #sk-container-id-1 div.sk-parallel-item::before {content: \"\";position: absolute;border-left: 1px solid gray;box-sizing: border-box;top: 0;bottom: 0;left: 50%;z-index: -1;}#sk-container-id-1 div.sk-parallel-item {display: flex;flex-direction: column;z-index: 1;position: relative;background-color: white;}#sk-container-id-1 div.sk-parallel-item:first-child::after {align-self: flex-end;width: 50%;}#sk-container-id-1 div.sk-parallel-item:last-child::after {align-self: flex-start;width: 50%;}#sk-container-id-1 div.sk-parallel-item:only-child::after {width: 0;}#sk-container-id-1 div.sk-dashed-wrapped {border: 1px dashed gray;margin: 0 0.4em 0.5em 0.4em;box-sizing: border-box;padding-bottom: 0.4em;background-color: white;}#sk-container-id-1 div.sk-label label {font-family: monospace;font-weight: bold;display: inline-block;line-height: 1.2em;}#sk-container-id-1 div.sk-label-container {text-align: center;}#sk-container-id-1 div.sk-container {/* jupyter's `normalize.less` sets `[hidden] { display: none; }` but bootstrap.min.css set `[hidden] { display: none !important; }` so we also need the `!important` here to be able to override the default hidden behavior on the sphinx rendered scikit-learn.org. See: https://github.com/scikit-learn/scikit-learn/issues/21755 */display: inline-block !important;position: relative;}#sk-container-id-1 div.sk-text-repr-fallback {display: none;}</style><div id=\"sk-container-id-1\" class=\"sk-top-container\"><div class=\"sk-text-repr-fallback\"><pre>LogisticRegression()</pre><b>In a Jupyter environment, please rerun this cell to show the HTML representation or trust the notebook. <br />On GitHub, the HTML representation is unable to render, please try loading this page with nbviewer.org.</b></div><div class=\"sk-container\" hidden><div class=\"sk-item\"><div class=\"sk-estimator sk-toggleable\"><input class=\"sk-toggleable__control sk-hidden--visually\" id=\"sk-estimator-id-1\" type=\"checkbox\" checked><label for=\"sk-estimator-id-1\" class=\"sk-toggleable__label sk-toggleable__label-arrow\">LogisticRegression</label><div class=\"sk-toggleable__content\"><pre>LogisticRegression()</pre></div></div></div></div></div>"
      ],
      "text/plain": [
       "LogisticRegression()"
      ]
     },
     "execution_count": 213,
     "metadata": {},
     "output_type": "execute_result"
    }
   ],
   "source": [
    "log_reg.fit(x_train,y_train)"
   ]
  },
  {
   "cell_type": "code",
   "execution_count": 214,
   "id": "6d04dc4e",
   "metadata": {},
   "outputs": [
    {
     "data": {
      "text/plain": [
       "array([[ 0.20389597, -2.20964772,  1.63184882, -0.11703539, -0.58781678,\n",
       "        -1.65728554, -1.18612224, -2.3992646 , -1.97838468,  0.88651379,\n",
       "         0.0630556 , -0.74063366,  0.74266159, -0.6199251 ,  0.05372637,\n",
       "        -0.00888458,  0.64408396, -0.05504868, -0.44709593,  0.29586973,\n",
       "         0.36320035, -0.34063683, -0.36435516,  0.17665901, -0.6560385 ,\n",
       "        -0.51388147,  0.02269499,  1.2258444 , -0.81906032,  0.29047929,\n",
       "         0.17356705,  0.45248424,  0.15624906,  1.48511004, -0.05425371]])"
      ]
     },
     "execution_count": 214,
     "metadata": {},
     "output_type": "execute_result"
    }
   ],
   "source": [
    "log_reg.coef_"
   ]
  },
  {
   "cell_type": "code",
   "execution_count": 215,
   "id": "f482fafe",
   "metadata": {},
   "outputs": [
    {
     "data": {
      "text/plain": [
       "array([0.07787181])"
      ]
     },
     "execution_count": 215,
     "metadata": {},
     "output_type": "execute_result"
    }
   ],
   "source": [
    "log_reg.intercept_"
   ]
  },
  {
   "cell_type": "code",
   "execution_count": 216,
   "id": "6ca3af9b",
   "metadata": {},
   "outputs": [
    {
     "data": {
      "text/plain": [
       "0.8647959183673469"
      ]
     },
     "execution_count": 216,
     "metadata": {},
     "output_type": "execute_result"
    }
   ],
   "source": [
    "log_reg.score(x_train,y_train)"
   ]
  },
  {
   "cell_type": "code",
   "execution_count": 218,
   "id": "1ef348e8",
   "metadata": {},
   "outputs": [],
   "source": [
    "y_predicted=log_reg.predict(x_test)"
   ]
  },
  {
   "cell_type": "code",
   "execution_count": 219,
   "id": "23913f09",
   "metadata": {},
   "outputs": [
    {
     "data": {
      "text/plain": [
       "0.8633786848072562"
      ]
     },
     "execution_count": 219,
     "metadata": {},
     "output_type": "execute_result"
    }
   ],
   "source": [
    "log_reg.score(x_test,y_test)"
   ]
  },
  {
   "cell_type": "code",
   "execution_count": 220,
   "id": "aa0b0ccd",
   "metadata": {},
   "outputs": [],
   "source": [
    "from sklearn import metrics"
   ]
  },
  {
   "cell_type": "code",
   "execution_count": 222,
   "id": "1bf6e032",
   "metadata": {},
   "outputs": [],
   "source": [
    "c=metrics.confusion_matrix(y_test,y_predicted)"
   ]
  },
  {
   "cell_type": "code",
   "execution_count": 225,
   "id": "4844a3bd",
   "metadata": {},
   "outputs": [
    {
     "data": {
      "image/png": "[encoded data removed]",
      "text/plain": [
       "<Figure size 640x480 with 2 Axes>"
      ]
     },
     "metadata": {},
     "output_type": "display_data"
    }
   ],
   "source": [
    "cm=metrics.ConfusionMatrixDisplay(c,display_labels=[False,True])\n",
    "cm.plot()\n",
    "plt.show()"
   ]
  },
  {
   "cell_type": "code",
   "execution_count": 227,
   "id": "53e276f8",
   "metadata": {},
   "outputs": [
    {
     "data": {
      "text/plain": [
       "'              precision    recall  f1-score   support\\n\\n         0.0       0.87      0.98      0.92      2964\\n         1.0       0.71      0.25      0.37       564\\n\\n    accuracy                           0.86      3528\\n   macro avg       0.79      0.61      0.64      3528\\nweighted avg       0.85      0.86      0.83      3528\\n'"
      ]
     },
     "execution_count": 227,
     "metadata": {},
     "output_type": "execute_result"
    }
   ],
   "source": [
    "metrics.classification_report(y_test,y_predicted)"
   ]
  },
  {
   "cell_type": "code",
   "execution_count": null,
   "id": "76e20eaa",
   "metadata": {},
   "outputs": [],
   "source": []
  }
 ],
 "metadata": {
  "kernelspec": {
   "display_name": "Python 3 (ipykernel)",
   "language": "python",
   "name": "python3"
  },
  "language_info": {
   "codemirror_mode": {
    "name": "ipython",
    "version": 3
   },
   "file_extension": ".py",
   "mimetype": "text/x-python",
   "name": "python",
   "nbconvert_exporter": "python",
   "pygments_lexer": "ipython3",
   "version": "3.11.4"
  }
 },
 "nbformat": 4,
 "nbformat_minor": 5
}
